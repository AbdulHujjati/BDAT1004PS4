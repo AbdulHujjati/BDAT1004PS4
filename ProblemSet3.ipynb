{
 "cells": [
  {
   "cell_type": "markdown",
   "id": "d2d84cae-005c-4351-8942-2136afce7929",
   "metadata": {},
   "source": [
    "# BDAT1004 Section (2)"
   ]
  },
  {
   "cell_type": "markdown",
   "id": "828efd76-e874-4250-814a-19418e3f528f",
   "metadata": {},
   "source": [
    "# Professor Roshan Sahu"
   ]
  },
  {
   "cell_type": "markdown",
   "id": "8738e3d8-fbe6-4feb-bbb2-a59426c4a423",
   "metadata": {},
   "source": [
    "# Problem Set 3"
   ]
  },
  {
   "cell_type": "markdown",
   "id": "d35d2789-098e-48ad-9e2f-868dc62b9b88",
   "metadata": {},
   "source": [
    "# Abdul Hujjati"
   ]
  },
  {
   "cell_type": "markdown",
   "id": "6ab9aec1-9a72-4241-ab1f-c95171c542f0",
   "metadata": {},
   "source": [
    "# Student ID: 200625568"
   ]
  },
  {
   "cell_type": "markdown",
   "id": "aaf9e447-a4fc-4ca2-9194-8bdb2c4f9082",
   "metadata": {},
   "source": [
    "## Question 1\n"
   ]
  },
  {
   "attachments": {},
   "cell_type": "markdown",
   "id": "599ce95a-85ef-4634-aaae-d064729a5c1a",
   "metadata": {},
   "source": [
    "Occupations\n",
    "Step 1. Import the necessary libraries\n",
    "Step 2. Import the dataset from this address.\n",
    "Step 3. Assign it to a variable called users\n",
    "Step 4. Discover what is the mean age per occupation\n",
    "Step 5. Discover the Male ratio per occupation and sort it from the most to the least\n",
    "Step 6. For each occupation, calculate the minimum and maximum ages\n",
    "Step 7. For each combination of occupation and sex, calculate the mean age\n",
    "Step 8. For each occupation present the percentage of women and men\n",
    "\n",
    "### Step 1: Importing libraries\n",
    "\n",
    "import pandas as pd"
   ]
  },
  {
   "cell_type": "markdown",
   "id": "3023712e-577e-40b6-a591-adf98655ee5c",
   "metadata": {},
   "source": [
    "### Step 2: Importing Dataset"
   ]
  },
  {
   "cell_type": "code",
   "execution_count": 626,
   "id": "5f1ef22d-76ac-49dd-ad62-5d5ca4bfe75f",
   "metadata": {},
   "outputs": [],
   "source": [
    "datasetLink = \"https://raw.githubusercontent.com/justmarkham/DAT8/master/data/u.user\""
   ]
  },
  {
   "cell_type": "markdown",
   "id": "0913dede-a01f-4c1d-8824-c421bb2845b4",
   "metadata": {},
   "source": [
    "### Step 3. Assign it to a variable called users"
   ]
  },
  {
   "cell_type": "code",
   "execution_count": 628,
   "id": "df2e95e0-d736-49b1-8b21-b3b425ab49d5",
   "metadata": {},
   "outputs": [
    {
     "name": "stdout",
     "output_type": "stream",
     "text": [
      "     user_id  age gender     occupation zip_code\n",
      "0          1   24      M     technician    85711\n",
      "1          2   53      F          other    94043\n",
      "2          3   23      M         writer    32067\n",
      "3          4   24      M     technician    43537\n",
      "4          5   33      F          other    15213\n",
      "..       ...  ...    ...            ...      ...\n",
      "938      939   26      F        student    33319\n",
      "939      940   32      M  administrator    02215\n",
      "940      941   20      M        student    97229\n",
      "941      942   48      F      librarian    78209\n",
      "942      943   22      M        student    77841\n",
      "\n",
      "[943 rows x 5 columns]\n"
     ]
    }
   ],
   "source": [
    "users = pd.read_csv(datasetLink, sep='|')\n",
    "print(users)"
   ]
  },
  {
   "cell_type": "markdown",
   "id": "bbc46eca-c23d-469f-b1e1-f0e2759c9222",
   "metadata": {},
   "source": [
    "### Step 4. Discover what is the mean age per occupation"
   ]
  },
  {
   "cell_type": "code",
   "execution_count": 630,
   "id": "acda5bf2-b74b-4fb4-8248-f87ef8045f4e",
   "metadata": {},
   "outputs": [
    {
     "name": "stdout",
     "output_type": "stream",
     "text": [
      "occupation\n",
      "administrator    38.746835\n",
      "artist           31.392857\n",
      "doctor           43.571429\n",
      "educator         42.010526\n",
      "engineer         36.388060\n",
      "entertainment    29.222222\n",
      "executive        38.718750\n",
      "healthcare       41.562500\n",
      "homemaker        32.571429\n",
      "lawyer           36.750000\n",
      "librarian        40.000000\n",
      "marketing        37.615385\n",
      "none             26.555556\n",
      "other            34.523810\n",
      "programmer       33.121212\n",
      "retired          63.071429\n",
      "salesman         35.666667\n",
      "scientist        35.548387\n",
      "student          22.081633\n",
      "technician       33.148148\n",
      "writer           36.311111\n",
      "Name: age, dtype: float64\n"
     ]
    }
   ],
   "source": [
    "meanAgeByOccupation = users.groupby('occupation')['age'].mean()\n",
    "print(meanAgeByOccupation)"
   ]
  },
  {
   "cell_type": "markdown",
   "id": "1b97cf3f-fe01-41da-8793-54e13676b4a0",
   "metadata": {},
   "source": [
    "### Step 5. Discover the Male ratio per occupation and sort it from the most to the least"
   ]
  },
  {
   "cell_type": "code",
   "execution_count": 632,
   "id": "c16eaa28-ed84-4a46-868e-dc3a36bcad25",
   "metadata": {},
   "outputs": [
    {
     "name": "stdout",
     "output_type": "stream",
     "text": [
      "occupation\n",
      "homemaker        0.857143\n",
      "healthcare       0.687500\n",
      "librarian        0.568627\n",
      "artist           0.464286\n",
      "administrator    0.455696\n",
      "none             0.444444\n",
      "writer           0.422222\n",
      "marketing        0.384615\n",
      "other            0.342857\n",
      "student          0.306122\n",
      "educator         0.273684\n",
      "salesman         0.250000\n",
      "lawyer           0.166667\n",
      "entertainment    0.111111\n",
      "scientist        0.096774\n",
      "executive        0.093750\n",
      "programmer       0.090909\n",
      "retired          0.071429\n",
      "technician       0.037037\n",
      "engineer         0.029851\n",
      "doctor           0.000000\n",
      "Name: genderCode, dtype: float64\n"
     ]
    }
   ],
   "source": [
    "# creating column\n",
    "users['genderCode'] = users['gender'].apply(lambda x: 0 if x == 'M' else 1)\n",
    "# creating variable for ratio, taking mean and sorting\n",
    "maleRatioPerOccupation = users.groupby('occupation')['genderCode'].mean().sort_values(ascending=False)\n",
    "print(maleRatioPerOccupation)"
   ]
  },
  {
   "cell_type": "markdown",
   "id": "2cafd169-2a41-496a-a66b-6f45ca528705",
   "metadata": {},
   "source": [
    "### Step 6. For each occupation, calculate the minimum and maximum ages"
   ]
  },
  {
   "cell_type": "code",
   "execution_count": 634,
   "id": "ea24c8b8-3357-44a5-abdf-86c4cb3a3369",
   "metadata": {},
   "outputs": [
    {
     "name": "stdout",
     "output_type": "stream",
     "text": [
      "               min  max\n",
      "occupation             \n",
      "administrator   21   70\n",
      "artist          19   48\n",
      "doctor          28   64\n",
      "educator        23   63\n",
      "engineer        22   70\n",
      "entertainment   15   50\n",
      "executive       22   69\n",
      "healthcare      22   62\n",
      "homemaker       20   50\n",
      "lawyer          21   53\n",
      "librarian       23   69\n",
      "marketing       24   55\n",
      "none            11   55\n",
      "other           13   64\n",
      "programmer      20   63\n",
      "retired         51   73\n",
      "salesman        18   66\n",
      "scientist       23   55\n",
      "student          7   42\n",
      "technician      21   55\n",
      "writer          18   60\n"
     ]
    }
   ],
   "source": [
    "minAndMaxAgesByOccupation = users.groupby('occupation')['age'].agg(['min','max'])\n",
    "print(minAndMaxAgesByOccupation)"
   ]
  },
  {
   "cell_type": "markdown",
   "id": "4038ccf9-8234-4ae7-8f5b-6c043074fc2e",
   "metadata": {},
   "source": [
    "### Step 7. For each combination of occupation and sex, calculate the mean age"
   ]
  },
  {
   "cell_type": "code",
   "execution_count": 636,
   "id": "3301fcd7-1fca-4290-8b2d-d9fe4d587153",
   "metadata": {},
   "outputs": [
    {
     "name": "stdout",
     "output_type": "stream",
     "text": [
      "occupation     gender\n",
      "administrator  F         40.638889\n",
      "               M         37.162791\n",
      "artist         F         30.307692\n",
      "               M         32.333333\n",
      "doctor         M         43.571429\n",
      "educator       F         39.115385\n",
      "               M         43.101449\n",
      "engineer       F         29.500000\n",
      "               M         36.600000\n",
      "entertainment  F         31.000000\n",
      "               M         29.000000\n",
      "executive      F         44.000000\n",
      "               M         38.172414\n",
      "healthcare     F         39.818182\n",
      "               M         45.400000\n",
      "homemaker      F         34.166667\n",
      "               M         23.000000\n",
      "lawyer         F         39.500000\n",
      "               M         36.200000\n",
      "librarian      F         40.000000\n",
      "               M         40.000000\n",
      "marketing      F         37.200000\n",
      "               M         37.875000\n",
      "none           F         36.500000\n",
      "               M         18.600000\n",
      "other          F         35.472222\n",
      "               M         34.028986\n",
      "programmer     F         32.166667\n",
      "               M         33.216667\n",
      "retired        F         70.000000\n",
      "               M         62.538462\n",
      "salesman       F         27.000000\n",
      "               M         38.555556\n",
      "scientist      F         28.333333\n",
      "               M         36.321429\n",
      "student        F         20.750000\n",
      "               M         22.669118\n",
      "technician     F         38.000000\n",
      "               M         32.961538\n",
      "writer         F         37.631579\n",
      "               M         35.346154\n",
      "Name: age, dtype: float64\n"
     ]
    }
   ],
   "source": [
    "OccupationAndSexMeanAge = users.groupby(['occupation', 'gender'])['age'].mean()\n",
    "print(OccupationAndSexMeanAge)"
   ]
  },
  {
   "cell_type": "markdown",
   "id": "f49a49c7-619e-461d-aecb-2993798d21b2",
   "metadata": {},
   "source": [
    "### Step 8. For each occupation present the percentage of women and men"
   ]
  },
  {
   "cell_type": "code",
   "execution_count": 638,
   "id": "2a76e4db-e528-4ab1-94f8-4ec4979df18a",
   "metadata": {},
   "outputs": [
    {
     "name": "stdout",
     "output_type": "stream",
     "text": [
      "gender                 F           M\n",
      "occupation                          \n",
      "administrator  45.569620   54.430380\n",
      "artist         46.428571   53.571429\n",
      "doctor               NaN  100.000000\n",
      "educator       27.368421   72.631579\n",
      "engineer        2.985075   97.014925\n",
      "entertainment  11.111111   88.888889\n",
      "executive       9.375000   90.625000\n",
      "healthcare     68.750000   31.250000\n",
      "homemaker      85.714286   14.285714\n",
      "lawyer         16.666667   83.333333\n",
      "librarian      56.862745   43.137255\n",
      "marketing      38.461538   61.538462\n",
      "none           44.444444   55.555556\n",
      "other          34.285714   65.714286\n",
      "programmer      9.090909   90.909091\n",
      "retired         7.142857   92.857143\n",
      "salesman       25.000000   75.000000\n",
      "scientist       9.677419   90.322581\n",
      "student        30.612245   69.387755\n",
      "technician      3.703704   96.296296\n",
      "writer         42.222222   57.777778\n"
     ]
    }
   ],
   "source": [
    "genderCount = users.groupby(['occupation','gender']).size().unstack()\n",
    "genderPercent = genderCount.div(genderCount.sum(axis=1),axis=0) * 100\n",
    "print(genderPercent)"
   ]
  },
  {
   "cell_type": "markdown",
   "id": "ce0c4e89-5daa-4ec5-934a-d416579cf78a",
   "metadata": {},
   "source": [
    "## Question 2"
   ]
  },
  {
   "cell_type": "markdown",
   "id": "7e33a860-8472-4978-88a1-d837f1a6315a",
   "metadata": {},
   "source": [
    "Euro Teams\n",
    "Step 1. Import the necessary libraries\n",
    "Step 2. Import the dataset from this address\n",
    "Step 3. Assign it to a variable called euro12\n",
    "Step 4. Select only the Goal column\n",
    "Step 5. How many team participated in the Euro2012?\n",
    "Step 6. What is the number of columns in the dataset?\n",
    "Step 7. View only the columns Team, Yellow Cards and Red Cards and assign them\n",
    "to a dataframe called discipline\n",
    "Step 8. Sort the teams by Red Cards, then to Yellow Cards\n",
    "Step 9. Calculate the mean Yellow Cards given per Team\n",
    "Step 10. Filter teams that scored more than 6 goalsStep 11. Select the teams that start\n",
    "with G\n",
    "Step 12. Select the first 7 columns\n",
    "Step 13. Select all columns except the last 3\n",
    "Step 14. Present only the Shooting Accuracy from England, Italy and Russia"
   ]
  },
  {
   "cell_type": "markdown",
   "id": "d7dfa702-467a-4264-9b70-f9900c5cd8e1",
   "metadata": {},
   "source": [
    "### Step 1. Import the necessary libraries"
   ]
  },
  {
   "cell_type": "markdown",
   "id": "053787de-dc71-47ad-b9e2-177015a2f2ac",
   "metadata": {},
   "source": [
    "import pandas as pd"
   ]
  },
  {
   "cell_type": "markdown",
   "id": "2b23be82-ff19-4dcb-bd7b-c8d0151da72b",
   "metadata": {},
   "source": [
    "### Step 2. Import the dataset"
   ]
  },
  {
   "cell_type": "code",
   "execution_count": 644,
   "id": "c7108b60-df43-470c-8f11-9d24de222832",
   "metadata": {},
   "outputs": [],
   "source": [
    "euroTeamsLink = 'https://raw.githubusercontent.com/guipsamora/pandas_exercises/master/02_Filtering_%26_Sorting/Euro12/Euro_2012_stats_TEAM.csv'"
   ]
  },
  {
   "cell_type": "markdown",
   "id": "ed2a07a5-a7f1-4935-99b2-397f6712a448",
   "metadata": {},
   "source": [
    "### Step 3. Assign it to Variable euro12"
   ]
  },
  {
   "cell_type": "code",
   "execution_count": 646,
   "id": "ddfa2c2e-86e2-4f3a-8c45-df80b4a3e3f0",
   "metadata": {},
   "outputs": [
    {
     "name": "stdout",
     "output_type": "stream",
     "text": [
      "                   Team  Goals  Shots on target  Shots off target  \\\n",
      "0               Croatia      4               13                12   \n",
      "1        Czech Republic      4               13                18   \n",
      "2               Denmark      4               10                10   \n",
      "3               England      5               11                18   \n",
      "4                France      3               22                24   \n",
      "5               Germany     10               32                32   \n",
      "6                Greece      5                8                18   \n",
      "7                 Italy      6               34                45   \n",
      "8           Netherlands      2               12                36   \n",
      "9                Poland      2               15                23   \n",
      "10             Portugal      6               22                42   \n",
      "11  Republic of Ireland      1                7                12   \n",
      "12               Russia      5                9                31   \n",
      "13                Spain     12               42                33   \n",
      "14               Sweden      5               17                19   \n",
      "15              Ukraine      2                7                26   \n",
      "\n",
      "   Shooting Accuracy % Goals-to-shots  Total shots (inc. Blocked)  \\\n",
      "0              51.9%            16.0%                          32   \n",
      "1              41.9%            12.9%                          39   \n",
      "2              50.0%            20.0%                          27   \n",
      "3              50.0%            17.2%                          40   \n",
      "4              37.9%             6.5%                          65   \n",
      "5              47.8%            15.6%                          80   \n",
      "6              30.7%            19.2%                          32   \n",
      "7              43.0%             7.5%                         110   \n",
      "8              25.0%             4.1%                          60   \n",
      "9              39.4%             5.2%                          48   \n",
      "10             34.3%             9.3%                          82   \n",
      "11             36.8%             5.2%                          28   \n",
      "12             22.5%            12.5%                          59   \n",
      "13             55.9%            16.0%                         100   \n",
      "14             47.2%            13.8%                          39   \n",
      "15             21.2%             6.0%                          38   \n",
      "\n",
      "    Hit Woodwork  Penalty goals  Penalties not scored  ...  Saves made  \\\n",
      "0              0              0                     0  ...          13   \n",
      "1              0              0                     0  ...           9   \n",
      "2              1              0                     0  ...          10   \n",
      "3              0              0                     0  ...          22   \n",
      "4              1              0                     0  ...           6   \n",
      "5              2              1                     0  ...          10   \n",
      "6              1              1                     1  ...          13   \n",
      "7              2              0                     0  ...          20   \n",
      "8              2              0                     0  ...          12   \n",
      "9              0              0                     0  ...           6   \n",
      "10             6              0                     0  ...          10   \n",
      "11             0              0                     0  ...          17   \n",
      "12             2              0                     0  ...          10   \n",
      "13             0              1                     0  ...          15   \n",
      "14             3              0                     0  ...           8   \n",
      "15             0              0                     0  ...          13   \n",
      "\n",
      "    Saves-to-shots ratio  Fouls Won Fouls Conceded  Offsides  Yellow Cards  \\\n",
      "0                  81.3%         41             62         2             9   \n",
      "1                  60.1%         53             73         8             7   \n",
      "2                  66.7%         25             38         8             4   \n",
      "3                  88.1%         43             45         6             5   \n",
      "4                  54.6%         36             51         5             6   \n",
      "5                  62.6%         63             49        12             4   \n",
      "6                  65.1%         67             48        12             9   \n",
      "7                  74.1%        101             89        16            16   \n",
      "8                  70.6%         35             30         3             5   \n",
      "9                  66.7%         48             56         3             7   \n",
      "10                 71.5%         73             90        10            12   \n",
      "11                 65.4%         43             51        11             6   \n",
      "12                 77.0%         34             43         4             6   \n",
      "13                 93.8%        102             83        19            11   \n",
      "14                 61.6%         35             51         7             7   \n",
      "15                 76.5%         48             31         4             5   \n",
      "\n",
      "    Red Cards  Subs on  Subs off  Players Used  \n",
      "0           0        9         9            16  \n",
      "1           0       11        11            19  \n",
      "2           0        7         7            15  \n",
      "3           0       11        11            16  \n",
      "4           0       11        11            19  \n",
      "5           0       15        15            17  \n",
      "6           1       12        12            20  \n",
      "7           0       18        18            19  \n",
      "8           0        7         7            15  \n",
      "9           1        7         7            17  \n",
      "10          0       14        14            16  \n",
      "11          1       10        10            17  \n",
      "12          0        7         7            16  \n",
      "13          0       17        17            18  \n",
      "14          0        9         9            18  \n",
      "15          0        9         9            18  \n",
      "\n",
      "[16 rows x 35 columns]\n"
     ]
    }
   ],
   "source": [
    "euro12 = pd.read_csv(euroTeamsLink)\n",
    "print(euro12)"
   ]
  },
  {
   "cell_type": "markdown",
   "id": "31f29670-7bee-4526-a39e-903ea90f50ad",
   "metadata": {},
   "source": [
    "### Step 4. Select only the Goal column\n"
   ]
  },
  {
   "cell_type": "code",
   "execution_count": 648,
   "id": "d92fd13c-0867-4ee2-8ac6-7aed5603a08b",
   "metadata": {},
   "outputs": [
    {
     "name": "stdout",
     "output_type": "stream",
     "text": [
      "0      4\n",
      "1      4\n",
      "2      4\n",
      "3      5\n",
      "4      3\n",
      "5     10\n",
      "6      5\n",
      "7      6\n",
      "8      2\n",
      "9      2\n",
      "10     6\n",
      "11     1\n",
      "12     5\n",
      "13    12\n",
      "14     5\n",
      "15     2\n",
      "Name: Goals, dtype: int64\n"
     ]
    }
   ],
   "source": [
    "goals = euro12['Goals']\n",
    "print(goals)"
   ]
  },
  {
   "cell_type": "markdown",
   "id": "ecda8915-958c-45f8-98ae-4e141badea9b",
   "metadata": {},
   "source": [
    "### Step 5. How many teams participated in the Euro2012?"
   ]
  },
  {
   "cell_type": "code",
   "execution_count": 650,
   "id": "e8b942f1-653b-42d2-9a95-6e1fb45ae0f1",
   "metadata": {},
   "outputs": [
    {
     "name": "stdout",
     "output_type": "stream",
     "text": [
      "16\n"
     ]
    }
   ],
   "source": [
    "teamsParticipatedCount = euro12['Team'].nunique()\n",
    "print(teamsParticipatedCount)"
   ]
  },
  {
   "cell_type": "markdown",
   "id": "b2965da5-ce3e-41d6-a137-f939d8a88779",
   "metadata": {},
   "source": [
    "### Step 7. View only the columns Team, Yellow Cards, and Red Cards and assign them to a dataframe called discipline"
   ]
  },
  {
   "cell_type": "code",
   "execution_count": 652,
   "id": "63f74886-e535-4efe-962e-17763eb6af8f",
   "metadata": {},
   "outputs": [
    {
     "name": "stdout",
     "output_type": "stream",
     "text": [
      "                   Team  Yellow Cards  Red Cards\n",
      "0               Croatia             9          0\n",
      "1        Czech Republic             7          0\n",
      "2               Denmark             4          0\n",
      "3               England             5          0\n",
      "4                France             6          0\n",
      "5               Germany             4          0\n",
      "6                Greece             9          1\n",
      "7                 Italy            16          0\n",
      "8           Netherlands             5          0\n",
      "9                Poland             7          1\n",
      "10             Portugal            12          0\n",
      "11  Republic of Ireland             6          1\n",
      "12               Russia             6          0\n",
      "13                Spain            11          0\n",
      "14               Sweden             7          0\n",
      "15              Ukraine             5          0\n"
     ]
    }
   ],
   "source": [
    "discipline = euro12[['Team', 'Yellow Cards', 'Red Cards']]\n",
    "print(discipline)"
   ]
  },
  {
   "cell_type": "markdown",
   "id": "27b85296-9c14-43d3-b2e6-84b624acbff3",
   "metadata": {},
   "source": [
    "### Step 8: Sort the teams by Red Cards, then by Yellow Cards"
   ]
  },
  {
   "cell_type": "code",
   "execution_count": 654,
   "id": "f9dffe24-11f8-4a84-882d-4e439e50db8f",
   "metadata": {},
   "outputs": [
    {
     "name": "stdout",
     "output_type": "stream",
     "text": [
      "                   Team  Red Cards  Yellow Cards\n",
      "6                Greece          1             9\n",
      "9                Poland          1             7\n",
      "11  Republic of Ireland          1             6\n",
      "7                 Italy          0            16\n",
      "10             Portugal          0            12\n",
      "13                Spain          0            11\n",
      "0               Croatia          0             9\n",
      "1        Czech Republic          0             7\n",
      "14               Sweden          0             7\n",
      "4                France          0             6\n",
      "12               Russia          0             6\n",
      "3               England          0             5\n",
      "8           Netherlands          0             5\n",
      "15              Ukraine          0             5\n",
      "2               Denmark          0             4\n",
      "5               Germany          0             4\n"
     ]
    }
   ],
   "source": [
    "teamsSorted = euro12[['Team', 'Red Cards', 'Yellow Cards']].sort_values(['Red Cards', 'Yellow Cards'], ascending=False)\n",
    "print(teamsSorted)"
   ]
  },
  {
   "cell_type": "markdown",
   "id": "29ca9638-735b-4f81-a634-c074197d59b6",
   "metadata": {},
   "source": [
    "### Step 9. Calculate the mean Yellow Cards given per Team"
   ]
  },
  {
   "cell_type": "code",
   "execution_count": 656,
   "id": "add744f2-8fb8-41f0-b408-65ce11441629",
   "metadata": {},
   "outputs": [
    {
     "name": "stdout",
     "output_type": "stream",
     "text": [
      "Team\n",
      "Croatia                 9.0\n",
      "Czech Republic          7.0\n",
      "Denmark                 4.0\n",
      "England                 5.0\n",
      "France                  6.0\n",
      "Germany                 4.0\n",
      "Greece                  9.0\n",
      "Italy                  16.0\n",
      "Netherlands             5.0\n",
      "Poland                  7.0\n",
      "Portugal               12.0\n",
      "Republic of Ireland     6.0\n",
      "Russia                  6.0\n",
      "Spain                  11.0\n",
      "Sweden                  7.0\n",
      "Ukraine                 5.0\n",
      "Name: Yellow Cards, dtype: float64\n"
     ]
    }
   ],
   "source": [
    "meanYellowCardsByTeam = euro12.groupby('Team')['Yellow Cards'].mean()\n",
    "print(meanYellowCardsByTeam)"
   ]
  },
  {
   "cell_type": "markdown",
   "id": "4574d0f5-645f-4e1d-965d-e0970091e51f",
   "metadata": {},
   "source": [
    "### Step 10. Filter teams that scored more than 6 goals"
   ]
  },
  {
   "cell_type": "code",
   "execution_count": 658,
   "id": "70942d5d-0dcb-47c1-b799-a0b3549d6135",
   "metadata": {},
   "outputs": [
    {
     "name": "stdout",
     "output_type": "stream",
     "text": [
      "       Team  Goals  Shots on target  Shots off target Shooting Accuracy  \\\n",
      "5   Germany     10               32                32             47.8%   \n",
      "13    Spain     12               42                33             55.9%   \n",
      "\n",
      "   % Goals-to-shots  Total shots (inc. Blocked)  Hit Woodwork  Penalty goals  \\\n",
      "5             15.6%                          80             2              1   \n",
      "13            16.0%                         100             0              1   \n",
      "\n",
      "    Penalties not scored  ...  Saves made  Saves-to-shots ratio  Fouls Won  \\\n",
      "5                      0  ...          10                 62.6%         63   \n",
      "13                     0  ...          15                 93.8%        102   \n",
      "\n",
      "   Fouls Conceded  Offsides  Yellow Cards  Red Cards  Subs on  Subs off  \\\n",
      "5              49        12             4          0       15        15   \n",
      "13             83        19            11          0       17        17   \n",
      "\n",
      "    Players Used  \n",
      "5             17  \n",
      "13            18  \n",
      "\n",
      "[2 rows x 35 columns]\n"
     ]
    }
   ],
   "source": [
    "TeamsWithMoreThanSixGoals = euro12[euro12['Goals']>6]\n",
    "print(TeamsWithMoreThanSixGoals)"
   ]
  },
  {
   "cell_type": "markdown",
   "id": "2c14d160-1c26-4378-8d80-6f4b9d54fc68",
   "metadata": {},
   "source": [
    "### Step 11. Select the teams that start with G"
   ]
  },
  {
   "cell_type": "code",
   "execution_count": 660,
   "id": "a2a5ad5f-211d-428b-8b54-f6423edb8b39",
   "metadata": {},
   "outputs": [
    {
     "name": "stdout",
     "output_type": "stream",
     "text": [
      "      Team  Goals  Shots on target  Shots off target Shooting Accuracy  \\\n",
      "5  Germany     10               32                32             47.8%   \n",
      "6   Greece      5                8                18             30.7%   \n",
      "\n",
      "  % Goals-to-shots  Total shots (inc. Blocked)  Hit Woodwork  Penalty goals  \\\n",
      "5            15.6%                          80             2              1   \n",
      "6            19.2%                          32             1              1   \n",
      "\n",
      "   Penalties not scored  ...  Saves made  Saves-to-shots ratio  Fouls Won  \\\n",
      "5                     0  ...          10                 62.6%         63   \n",
      "6                     1  ...          13                 65.1%         67   \n",
      "\n",
      "  Fouls Conceded  Offsides  Yellow Cards  Red Cards  Subs on  Subs off  \\\n",
      "5             49        12             4          0       15        15   \n",
      "6             48        12             9          1       12        12   \n",
      "\n",
      "   Players Used  \n",
      "5            17  \n",
      "6            20  \n",
      "\n",
      "[2 rows x 35 columns]\n"
     ]
    }
   ],
   "source": [
    "namesStartWithG = euro12[euro12['Team'].str.startswith('G')]\n",
    "print(namesStartWithG)"
   ]
  },
  {
   "cell_type": "markdown",
   "id": "4f22b19f-6eb7-4b7e-8af2-06a35d86d5a6",
   "metadata": {},
   "source": [
    "### Step 12. Select the first 7 columns"
   ]
  },
  {
   "cell_type": "code",
   "execution_count": 662,
   "id": "d1dffa58-6086-47d8-9791-19e2546e6a0d",
   "metadata": {},
   "outputs": [
    {
     "name": "stdout",
     "output_type": "stream",
     "text": [
      "                   Team  Goals  Shots on target  Shots off target  \\\n",
      "0               Croatia      4               13                12   \n",
      "1        Czech Republic      4               13                18   \n",
      "2               Denmark      4               10                10   \n",
      "3               England      5               11                18   \n",
      "4                France      3               22                24   \n",
      "5               Germany     10               32                32   \n",
      "6                Greece      5                8                18   \n",
      "7                 Italy      6               34                45   \n",
      "8           Netherlands      2               12                36   \n",
      "9                Poland      2               15                23   \n",
      "10             Portugal      6               22                42   \n",
      "11  Republic of Ireland      1                7                12   \n",
      "12               Russia      5                9                31   \n",
      "13                Spain     12               42                33   \n",
      "14               Sweden      5               17                19   \n",
      "15              Ukraine      2                7                26   \n",
      "\n",
      "   Shooting Accuracy % Goals-to-shots  Total shots (inc. Blocked)  \n",
      "0              51.9%            16.0%                          32  \n",
      "1              41.9%            12.9%                          39  \n",
      "2              50.0%            20.0%                          27  \n",
      "3              50.0%            17.2%                          40  \n",
      "4              37.9%             6.5%                          65  \n",
      "5              47.8%            15.6%                          80  \n",
      "6              30.7%            19.2%                          32  \n",
      "7              43.0%             7.5%                         110  \n",
      "8              25.0%             4.1%                          60  \n",
      "9              39.4%             5.2%                          48  \n",
      "10             34.3%             9.3%                          82  \n",
      "11             36.8%             5.2%                          28  \n",
      "12             22.5%            12.5%                          59  \n",
      "13             55.9%            16.0%                         100  \n",
      "14             47.2%            13.8%                          39  \n",
      "15             21.2%             6.0%                          38  \n"
     ]
    }
   ],
   "source": [
    "firstSevenColumns = euro12.iloc[:, :7]\n",
    "print(firstSevenColumns)\n"
   ]
  },
  {
   "cell_type": "markdown",
   "id": "7f0a357f-f3f8-4503-a788-76da1817efbb",
   "metadata": {},
   "source": [
    "### Step 13. Select all columns except the last 3"
   ]
  },
  {
   "cell_type": "code",
   "execution_count": 664,
   "id": "0643a441-e4c5-4ebb-a51b-e675f4519977",
   "metadata": {},
   "outputs": [
    {
     "name": "stdout",
     "output_type": "stream",
     "text": [
      "                   Team  Goals  Shots on target  Shots off target  \\\n",
      "0               Croatia      4               13                12   \n",
      "1        Czech Republic      4               13                18   \n",
      "2               Denmark      4               10                10   \n",
      "3               England      5               11                18   \n",
      "4                France      3               22                24   \n",
      "5               Germany     10               32                32   \n",
      "6                Greece      5                8                18   \n",
      "7                 Italy      6               34                45   \n",
      "8           Netherlands      2               12                36   \n",
      "9                Poland      2               15                23   \n",
      "10             Portugal      6               22                42   \n",
      "11  Republic of Ireland      1                7                12   \n",
      "12               Russia      5                9                31   \n",
      "13                Spain     12               42                33   \n",
      "14               Sweden      5               17                19   \n",
      "15              Ukraine      2                7                26   \n",
      "\n",
      "   Shooting Accuracy % Goals-to-shots  Total shots (inc. Blocked)  \\\n",
      "0              51.9%            16.0%                          32   \n",
      "1              41.9%            12.9%                          39   \n",
      "2              50.0%            20.0%                          27   \n",
      "3              50.0%            17.2%                          40   \n",
      "4              37.9%             6.5%                          65   \n",
      "5              47.8%            15.6%                          80   \n",
      "6              30.7%            19.2%                          32   \n",
      "7              43.0%             7.5%                         110   \n",
      "8              25.0%             4.1%                          60   \n",
      "9              39.4%             5.2%                          48   \n",
      "10             34.3%             9.3%                          82   \n",
      "11             36.8%             5.2%                          28   \n",
      "12             22.5%            12.5%                          59   \n",
      "13             55.9%            16.0%                         100   \n",
      "14             47.2%            13.8%                          39   \n",
      "15             21.2%             6.0%                          38   \n",
      "\n",
      "    Hit Woodwork  Penalty goals  Penalties not scored  ...  Clean Sheets  \\\n",
      "0              0              0                     0  ...             0   \n",
      "1              0              0                     0  ...             1   \n",
      "2              1              0                     0  ...             1   \n",
      "3              0              0                     0  ...             2   \n",
      "4              1              0                     0  ...             1   \n",
      "5              2              1                     0  ...             1   \n",
      "6              1              1                     1  ...             1   \n",
      "7              2              0                     0  ...             2   \n",
      "8              2              0                     0  ...             0   \n",
      "9              0              0                     0  ...             0   \n",
      "10             6              0                     0  ...             2   \n",
      "11             0              0                     0  ...             0   \n",
      "12             2              0                     0  ...             0   \n",
      "13             0              1                     0  ...             5   \n",
      "14             3              0                     0  ...             1   \n",
      "15             0              0                     0  ...             0   \n",
      "\n",
      "    Blocks  Goals conceded Saves made  Saves-to-shots ratio  Fouls Won  \\\n",
      "0       10               3         13                 81.3%         41   \n",
      "1       10               6          9                 60.1%         53   \n",
      "2       10               5         10                 66.7%         25   \n",
      "3       29               3         22                 88.1%         43   \n",
      "4        7               5          6                 54.6%         36   \n",
      "5       11               6         10                 62.6%         63   \n",
      "6       23               7         13                 65.1%         67   \n",
      "7       18               7         20                 74.1%        101   \n",
      "8        9               5         12                 70.6%         35   \n",
      "9        8               3          6                 66.7%         48   \n",
      "10      11               4         10                 71.5%         73   \n",
      "11      23               9         17                 65.4%         43   \n",
      "12       8               3         10                 77.0%         34   \n",
      "13       8               1         15                 93.8%        102   \n",
      "14      12               5          8                 61.6%         35   \n",
      "15       4               4         13                 76.5%         48   \n",
      "\n",
      "    Fouls Conceded  Offsides  Yellow Cards  Red Cards  \n",
      "0               62         2             9          0  \n",
      "1               73         8             7          0  \n",
      "2               38         8             4          0  \n",
      "3               45         6             5          0  \n",
      "4               51         5             6          0  \n",
      "5               49        12             4          0  \n",
      "6               48        12             9          1  \n",
      "7               89        16            16          0  \n",
      "8               30         3             5          0  \n",
      "9               56         3             7          1  \n",
      "10              90        10            12          0  \n",
      "11              51        11             6          1  \n",
      "12              43         4             6          0  \n",
      "13              83        19            11          0  \n",
      "14              51         7             7          0  \n",
      "15              31         4             5          0  \n",
      "\n",
      "[16 rows x 32 columns]\n"
     ]
    }
   ],
   "source": [
    "notLastThreeColumns = euro12.iloc[:, :-3]\n",
    "print(notLastThreeColumns)"
   ]
  },
  {
   "cell_type": "markdown",
   "id": "e9e09338-59e4-4a25-af55-4427befc6b8a",
   "metadata": {},
   "source": [
    "### Step 14: Present only the Shooting Accuracy from England, Italy, and Russia"
   ]
  },
  {
   "cell_type": "code",
   "execution_count": 666,
   "id": "39925ace-326b-495c-9d1f-e5e413a644c3",
   "metadata": {},
   "outputs": [
    {
     "name": "stdout",
     "output_type": "stream",
     "text": [
      "       Team Shooting Accuracy\n",
      "3   England             50.0%\n",
      "7     Italy             43.0%\n",
      "12   Russia             22.5%\n"
     ]
    }
   ],
   "source": [
    "shootingAccuracyEngItlRus = euro12[euro12['Team'].isin(['England', 'Italy', 'Russia'])][['Team', 'Shooting Accuracy']]\n",
    "print(shootingAccuracyEngItlRus)\n"
   ]
  },
  {
   "cell_type": "code",
   "execution_count": null,
   "id": "4b972415-eb7d-4ab5-9646-74928b6458ba",
   "metadata": {},
   "outputs": [],
   "source": []
  },
  {
   "cell_type": "markdown",
   "id": "80a55f53-b20d-4881-afde-c4437d45c11b",
   "metadata": {},
   "source": [
    "## Question 3"
   ]
  },
  {
   "cell_type": "markdown",
   "id": "184eb2d9-cc7f-4be7-ad33-80198952d9c3",
   "metadata": {},
   "source": [
    "Housing\n",
    "Step 1. Import the necessary libraries\n",
    "Step 2. Create 3 differents Series, each of length 100, as follows:\n",
    "• The first a random number from 1 to 4\n",
    "• The second a random number from 1 to 3\n",
    "• The third a random number from 10,000 to 30,000\n",
    "Step 3. Create a DataFrame by joinning the Series by column\n",
    "Step 4. Change the name of the columns to bedrs, bathrs, price_sqr_meter\n",
    "Step 5. Create a one column DataFrame with the values of the 3 Series and assign it\n",
    "to 'bigcolumn'\n",
    "Step 6. Ops it seems it is going only until index 99. Is it true?\n",
    "Step 7. Reindex the DataFrame so it goes from 0 to 299\n"
   ]
  },
  {
   "cell_type": "markdown",
   "id": "250741b4-fe70-4d31-aed0-432905a9ed72",
   "metadata": {},
   "source": [
    "### Step 1. Import the necessary libraries"
   ]
  },
  {
   "cell_type": "code",
   "execution_count": 670,
   "id": "47bfb289-19af-4128-8ac0-3f072de385dc",
   "metadata": {},
   "outputs": [],
   "source": [
    "import pandas as pd\n",
    "import numpy as np"
   ]
  },
  {
   "cell_type": "markdown",
   "id": "781b4446-c2ee-4750-97f1-0323bc24a4e2",
   "metadata": {},
   "source": [
    "### Step 2. Create 3 different Series, each of length 100\n"
   ]
  },
  {
   "cell_type": "code",
   "execution_count": 672,
   "id": "c8eadd5f-077d-4e67-aa9e-c2f45e12402d",
   "metadata": {},
   "outputs": [],
   "source": [
    "np.random.seed(0)\n",
    "\n",
    "series1 = pd.Series(np.random.randint(1, 5, size=100))\n",
    "series2 = pd.Series(np.random.randint(1, 4, size=100))\n",
    "series3 = pd.Series(np.random.randint(10000, 30000, size=100))\n",
    "\n"
   ]
  },
  {
   "cell_type": "markdown",
   "id": "b3cc61a4-de1e-4664-ba3b-eaecdf4add7b",
   "metadata": {},
   "source": [
    "### Step 3. Create a DataFrame by joining the Series by column"
   ]
  },
  {
   "cell_type": "code",
   "execution_count": 674,
   "id": "60fb90e0-0236-48ce-828c-914267ff9f49",
   "metadata": {},
   "outputs": [
    {
     "name": "stdout",
     "output_type": "stream",
     "text": [
      "    0  1      2\n",
      "0   1  2  15021\n",
      "1   4  3  11134\n",
      "2   2  1  26409\n",
      "3   1  1  19680\n",
      "4   4  3  27340\n",
      ".. .. ..    ...\n",
      "95  1  2  28161\n",
      "96  3  2  29745\n",
      "97  4  1  18338\n",
      "98  2  1  24676\n",
      "99  1  1  12562\n",
      "\n",
      "[100 rows x 3 columns]\n"
     ]
    }
   ],
   "source": [
    "dataFrame = pd.concat([series1, series2, series3], axis=1)\n",
    "print(dataFrame)"
   ]
  },
  {
   "cell_type": "markdown",
   "id": "e9229012-eebc-4cad-918d-4fddec537bd4",
   "metadata": {},
   "source": [
    "### Step 4. Change the name of the columns to bedrs, bathrs, price_sqr_meter\n"
   ]
  },
  {
   "cell_type": "code",
   "execution_count": 676,
   "id": "d5fc899b-77ea-4c29-9800-87b75fa0aac6",
   "metadata": {},
   "outputs": [
    {
     "name": "stdout",
     "output_type": "stream",
     "text": [
      "    bedrs  bathrs  price_sqr_meter\n",
      "0       1       2            15021\n",
      "1       4       3            11134\n",
      "2       2       1            26409\n",
      "3       1       1            19680\n",
      "4       4       3            27340\n",
      "..    ...     ...              ...\n",
      "95      1       2            28161\n",
      "96      3       2            29745\n",
      "97      4       1            18338\n",
      "98      2       1            24676\n",
      "99      1       1            12562\n",
      "\n",
      "[100 rows x 3 columns]\n"
     ]
    }
   ],
   "source": [
    "dataFrame.columns =['bedrs', 'bathrs', 'price_sqr_meter']\n",
    "print(dataFrame)"
   ]
  },
  {
   "cell_type": "markdown",
   "id": "212ec7ed-b4b9-4f9f-9aef-a0bbbd56b9b6",
   "metadata": {},
   "source": [
    "### Step 5. Create a one-column DataFrame with the values of the 3 Series and assign it to 'bigcolumn'"
   ]
  },
  {
   "cell_type": "code",
   "execution_count": 678,
   "id": "cbebf765-8db6-46a6-a28c-4c32cdc09950",
   "metadata": {},
   "outputs": [
    {
     "name": "stdout",
     "output_type": "stream",
     "text": [
      "     bigcolumn\n",
      "0            1\n",
      "1            4\n",
      "2            2\n",
      "3            1\n",
      "4            4\n",
      "..         ...\n",
      "295      28161\n",
      "296      29745\n",
      "297      18338\n",
      "298      24676\n",
      "299      12562\n",
      "\n",
      "[300 rows x 1 columns]\n"
     ]
    }
   ],
   "source": [
    "bigColumn = pd.DataFrame(pd.concat([series1, series2, series3], ignore_index=True), columns=['bigcolumn'])\n",
    "print(bigColumn)"
   ]
  },
  {
   "cell_type": "markdown",
   "id": "a60b7c42-79dc-4164-b57b-9bff83bbe2ed",
   "metadata": {},
   "source": [
    "### Step 6. Check if the DataFrame only goes until index 99"
   ]
  },
  {
   "cell_type": "code",
   "execution_count": 680,
   "id": "48b05113-81c4-40ba-87e0-9b7acbab6a03",
   "metadata": {},
   "outputs": [
    {
     "name": "stdout",
     "output_type": "stream",
     "text": [
      "False\n"
     ]
    }
   ],
   "source": [
    "print(bigColumn.index[-1]==99)"
   ]
  },
  {
   "cell_type": "markdown",
   "id": "fa61c2ee-fa5e-47bf-b63f-530bfd75bdf6",
   "metadata": {},
   "source": [
    "### Step 7. Reindex the DataFrame so it goes from 0 to 299"
   ]
  },
  {
   "cell_type": "code",
   "execution_count": 682,
   "id": "8ba6053f-285c-42e6-b317-86c62169d5e7",
   "metadata": {},
   "outputs": [
    {
     "name": "stdout",
     "output_type": "stream",
     "text": [
      "     bigcolumn\n",
      "0            1\n",
      "1            4\n",
      "2            2\n",
      "3            1\n",
      "4            4\n",
      "..         ...\n",
      "295      28161\n",
      "296      29745\n",
      "297      18338\n",
      "298      24676\n",
      "299      12562\n",
      "\n",
      "[300 rows x 1 columns]\n"
     ]
    }
   ],
   "source": [
    "bigColumn = bigColumn.reindex(range(300))\n",
    "print(bigColumn)"
   ]
  },
  {
   "cell_type": "markdown",
   "id": "c3375627-3124-40c7-8690-b032ce173408",
   "metadata": {},
   "source": [
    "## Question 4"
   ]
  },
  {
   "cell_type": "markdown",
   "id": "6e8d486d-37ce-4944-b397-6f9d19485bb8",
   "metadata": {},
   "source": [
    "Wind Statistics\n",
    "The data have been modified to contain some missing values, identified by NaN. \n",
    "Using pandas should make this exercise easier, in particular for the bonus question.\n",
    "You should be able to perform all of these operations without using a for loop or \n",
    "other looping construct.\n",
    "The data in 'wind.data' has the following format:\n",
    "Yr Mo Dy RPT VAL ROS KIL SHA BIR DUB CLA MUL CLO BEL \n",
    "MAL\n",
    "61 1 1 15.04 14.96 13.17 9.29 NaN 9.87 13.67 10.25 10.83 12.58 18.50 15.04\n",
    "61 1 2 14.71 NaN 10.83 6.50 12.62 7.67 11.50 10.04 9.79 9.67 17.54 13.83\n",
    "61 1 3 18.50 16.88 12.33 10.13 11.17 6.17 11.25 NaN 8.50 7.67 12.75 12.71\n",
    "The first three columns are year, month, and day. The remaining 12 columns are \n",
    "average windspeeds in knots at 12 locations in Ireland on that day."
   ]
  },
  {
   "cell_type": "markdown",
   "id": "5250dae6-8ab9-4eed-9d50-c2938c7d2b26",
   "metadata": {},
   "source": [
    "### Step 1. Import the necessary libraries"
   ]
  },
  {
   "cell_type": "code",
   "execution_count": 686,
   "id": "f919cd83-1946-4454-b290-0b0d895b8144",
   "metadata": {},
   "outputs": [],
   "source": [
    "import pandas as pd\n",
    "import numpy as np"
   ]
  },
  {
   "cell_type": "markdown",
   "id": "97d32bf1-606e-4891-ab79-15b0f6a8925e",
   "metadata": {},
   "source": [
    "### Step 2. Import the dataset from the attached file wind.txt"
   ]
  },
  {
   "cell_type": "code",
   "execution_count": 101,
   "id": "56563491-e3ca-4a99-96f5-c8798cc1b649",
   "metadata": {},
   "outputs": [
    {
     "name": "stdout",
     "output_type": "stream",
     "text": [
      "   Yr  Mo  Dy    RPT    VAL    ROS    KIL    SHA   BIR    DUB    CLA    MUL  \\\n",
      "0  61   1   1  15.04  14.96  13.17   9.29    NaN  9.87  13.67  10.25  10.83   \n",
      "1  61   1   2  14.71    NaN  10.83   6.50  12.62  7.67  11.50  10.04   9.79   \n",
      "2  61   1   3  18.50  16.88  12.33  10.13  11.17  6.17  11.25    NaN   8.50   \n",
      "3  61   1   4  10.58   6.63  11.75   4.58   4.54  2.88   8.63   1.79   5.83   \n",
      "4  61   1   5  13.33  13.25  11.42   6.17  10.71  8.21  11.92   6.54  10.92   \n",
      "\n",
      "     CLO    BEL    MAL  \n",
      "0  12.58  18.50  15.04  \n",
      "1   9.67  17.54  13.83  \n",
      "2   7.67  12.75  12.71  \n",
      "3   5.88   5.46  10.88  \n",
      "4  10.34  12.92  11.83  \n"
     ]
    },
    {
     "name": "stderr",
     "output_type": "stream",
     "text": [
      "C:\\Users\\abdul\\AppData\\Local\\Temp\\ipykernel_22568\\2403365621.py:1: FutureWarning: The 'delim_whitespace' keyword in pd.read_csv is deprecated and will be removed in a future version. Use ``sep='\\s+'`` instead\n",
      "  data = pd.read_csv('wind.txt', delim_whitespace=True)\n"
     ]
    }
   ],
   "source": [
    "data = pd.read_csv('wind.txt', delim_whitespace=True)\n",
    "print(data.head())"
   ]
  },
  {
   "cell_type": "markdown",
   "id": "2fd3c2e3-55d0-4776-a825-991a1d1eb74b",
   "metadata": {},
   "source": [
    "### Step 3. Assign it to a variable called data and replace the first 3 columns by a proper datetime index."
   ]
  },
  {
   "cell_type": "code",
   "execution_count": 103,
   "id": "7841b7eb-804f-426f-850c-6f0f9f345b68",
   "metadata": {},
   "outputs": [],
   "source": [
    "data['Date'] = pd.to_datetime(data[['Yr', 'Mo', 'Dy']].astype(str).agg('-'.join, axis=1), format='%y-%m-%d')\n",
    "data.set_index('Date', inplace=True)\n",
    "data.drop(columns=['Yr', 'Mo', 'Dy'], inplace=True)"
   ]
  },
  {
   "cell_type": "markdown",
   "id": "6c27c0e6-bbcc-418b-990c-945d370b2876",
   "metadata": {},
   "source": [
    "### Step 4. Year 2061? Do we really have data from this year? Create a function to fix it and apply it."
   ]
  },
  {
   "cell_type": "code",
   "execution_count": 105,
   "id": "18dc4501-3745-4828-833b-a6f2d89f9df9",
   "metadata": {},
   "outputs": [
    {
     "name": "stdout",
     "output_type": "stream",
     "text": [
      "              RPT    VAL    ROS    KIL    SHA    BIR    DUB    CLA    MUL  \\\n",
      "Date                                                                        \n",
      "1961-01-01  15.04  14.96  13.17   9.29    NaN   9.87  13.67  10.25  10.83   \n",
      "1961-01-02  14.71    NaN  10.83   6.50  12.62   7.67  11.50  10.04   9.79   \n",
      "1961-01-03  18.50  16.88  12.33  10.13  11.17   6.17  11.25    NaN   8.50   \n",
      "1961-01-04  10.58   6.63  11.75   4.58   4.54   2.88   8.63   1.79   5.83   \n",
      "1961-01-05  13.33  13.25  11.42   6.17  10.71   8.21  11.92   6.54  10.92   \n",
      "...           ...    ...    ...    ...    ...    ...    ...    ...    ...   \n",
      "1978-12-27  17.58  16.96  17.62   8.08  13.21  11.67  14.46  15.59  14.04   \n",
      "1978-12-28  13.21   5.46  13.46   5.00   8.12   9.42  14.33  16.25  15.25   \n",
      "1978-12-29  14.00  10.29  14.42   8.71   9.71  10.54  19.17  12.46  14.50   \n",
      "1978-12-30  18.50  14.04  21.29   9.13  12.75   9.71  18.08  12.87  12.46   \n",
      "1978-12-31  20.33  17.41  27.29   9.59  12.08  10.13  19.25  11.63  11.58   \n",
      "\n",
      "              CLO    BEL    MAL  \n",
      "Date                             \n",
      "1961-01-01  12.58  18.50  15.04  \n",
      "1961-01-02   9.67  17.54  13.83  \n",
      "1961-01-03   7.67  12.75  12.71  \n",
      "1961-01-04   5.88   5.46  10.88  \n",
      "1961-01-05  10.34  12.92  11.83  \n",
      "...           ...    ...    ...  \n",
      "1978-12-27  14.00  17.21  40.08  \n",
      "1978-12-28  18.05  21.79  41.46  \n",
      "1978-12-29  16.42  18.88  29.58  \n",
      "1978-12-30  12.12  14.67  28.79  \n",
      "1978-12-31  11.38  12.08  22.08  \n",
      "\n",
      "[6574 rows x 12 columns]\n"
     ]
    }
   ],
   "source": [
    "def fix_year(df):\n",
    "    df.index = df.index.where(df.index.year <= 2023, df.index - pd.DateOffset(years=100))\n",
    "    return df\n",
    "\n",
    "data = fix_year(data)\n",
    "print(data)"
   ]
  },
  {
   "cell_type": "markdown",
   "id": "e7c57c70-332b-4f11-9954-b27cbdf037fb",
   "metadata": {},
   "source": [
    "### Step 5. Set the right dates as the index. Pay attention at the data type, it should be datetime64[ns]."
   ]
  },
  {
   "cell_type": "code",
   "execution_count": 29,
   "id": "4fad8ba3-76b4-4311-a199-084bddc97912",
   "metadata": {},
   "outputs": [],
   "source": [
    "#performed in step 4"
   ]
  },
  {
   "cell_type": "markdown",
   "id": "3f343afc-5bef-4ad4-be08-e418376cf107",
   "metadata": {},
   "source": [
    "### Step 6. Compute how many values are missing for each location over the entire \n",
    "record.They should be ignored in all calculations below."
   ]
  },
  {
   "cell_type": "code",
   "execution_count": 107,
   "id": "32f17feb-85b3-4db3-af2d-b648ce57dd1a",
   "metadata": {},
   "outputs": [
    {
     "name": "stdout",
     "output_type": "stream",
     "text": [
      "RPT    6\n",
      "VAL    3\n",
      "ROS    2\n",
      "KIL    5\n",
      "SHA    2\n",
      "BIR    0\n",
      "DUB    3\n",
      "CLA    2\n",
      "MUL    3\n",
      "CLO    1\n",
      "BEL    0\n",
      "MAL    4\n",
      "dtype: int64\n"
     ]
    }
   ],
   "source": [
    "missing_values = data.isna().sum()\n",
    "print(missing_values)"
   ]
  },
  {
   "cell_type": "markdown",
   "id": "cea04961-d2d4-42b8-aab5-b52d8511c047",
   "metadata": {},
   "source": [
    "### Step 7. Compute how many non-missing values there are in total."
   ]
  },
  {
   "cell_type": "code",
   "execution_count": 52,
   "id": "37d20437-4d6e-4e91-9a0d-7d25928e0af2",
   "metadata": {},
   "outputs": [
    {
     "name": "stdout",
     "output_type": "stream",
     "text": [
      "78857\n"
     ]
    }
   ],
   "source": [
    "non_missing_values = data.notna().sum().sum()\n",
    "print(non_missing_values)"
   ]
  },
  {
   "cell_type": "markdown",
   "id": "6087b0cf-1e07-42f9-800d-ba7117644b47",
   "metadata": {},
   "source": [
    "### Step 8. Calculate the mean windspeeds of the windspeeds over all the locations and all the times. \n"
   ]
  },
  {
   "cell_type": "code",
   "execution_count": 54,
   "id": "f0cb2e53-961e-44c0-8cbb-b30ce50d5a20",
   "metadata": {},
   "outputs": [
    {
     "name": "stdout",
     "output_type": "stream",
     "text": [
      "10.227982360836938\n"
     ]
    }
   ],
   "source": [
    "mean_windspeed = data.mean().mean()\n",
    "print(mean_windspeed)"
   ]
  },
  {
   "cell_type": "markdown",
   "id": "7bc27bdb-52b4-467e-b7be-df7fce64ec4c",
   "metadata": {},
   "source": [
    "### Step 9. A single number for the entire dataset.\n",
    "Create a DataFrame called loc_stats and calculate the min, max and mean \n",
    "windspeeds and standard deviations of the windspeeds at each location over all the \n",
    "days"
   ]
  },
  {
   "cell_type": "code",
   "execution_count": 58,
   "id": "001580ae-fee2-441f-b3c2-c5ca410de21d",
   "metadata": {},
   "outputs": [
    {
     "name": "stdout",
     "output_type": "stream",
     "text": [
      "      count       mean       std   min    25%    50%    75%    max\n",
      "RPT  6568.0  12.362987  5.618413  0.67   8.12  11.71  15.92  35.80\n",
      "VAL  6571.0  10.644314  5.267356  0.21   6.67  10.17  14.04  33.37\n",
      "ROS  6572.0  11.660526  5.008450  1.50   8.00  10.92  14.67  33.84\n",
      "KIL  6569.0   6.306468  3.605811  0.00   3.58   5.75   8.42  28.46\n",
      "SHA  6572.0  10.455834  4.936125  0.13   6.75   9.96  13.54  37.54\n",
      "BIR  6574.0   7.092254  3.968683  0.00   4.00   6.83   9.67  26.16\n",
      "DUB  6571.0   9.797343  4.977555  0.00   6.00   9.21  12.96  30.37\n",
      "CLA  6572.0   8.495053  4.499449  0.00   5.09   8.08  11.42  31.08\n",
      "MUL  6571.0   8.493590  4.166872  0.00   5.37   8.17  11.19  25.88\n",
      "CLO  6573.0   8.707332  4.503954  0.04   5.33   8.29  11.63  28.21\n",
      "BEL  6574.0  13.121007  5.835037  0.13   8.71  12.50  16.88  42.38\n",
      "MAL  6570.0  15.599079  6.699794  0.67  10.71  15.00  19.83  42.54\n"
     ]
    }
   ],
   "source": [
    "loc_stats = data.describe().transpose()\n",
    "loc_stats['std'] = data.std()\n",
    "print(loc_stats)"
   ]
  },
  {
   "cell_type": "markdown",
   "id": "f01eb1c7-37bd-4beb-8ada-9b21100dca4b",
   "metadata": {},
   "source": [
    "### Step 10. A different set of numbers for each location.\n",
    "Create a DataFrame called day_stats and calculate the min, max and mean windspeed and standard deviations of the windspeeds across all the locations at each \n",
    "day."
   ]
  },
  {
   "cell_type": "code",
   "execution_count": 61,
   "id": "857e289f-cf1d-401f-aa63-dddec60ae498",
   "metadata": {},
   "outputs": [
    {
     "name": "stdout",
     "output_type": "stream",
     "text": [
      "             min    max       mean       std\n",
      "Date                                        \n",
      "1961-01-01  9.29  18.50  13.018182  2.808875\n",
      "1961-01-02  6.50  17.54  11.336364  3.188994\n",
      "1961-01-03  6.17  18.50  11.641818  3.681912\n",
      "1961-01-04  1.79  11.75   6.619167  3.198126\n",
      "1961-01-05  6.17  13.33  10.630000  2.445356\n",
      "...          ...    ...        ...       ...\n",
      "1978-12-27  8.08  40.08  16.708333  7.868076\n",
      "1978-12-28  5.00  41.46  15.150000  9.687857\n",
      "1978-12-29  8.71  29.58  14.890000  5.756836\n",
      "1978-12-30  9.13  28.79  15.367500  5.540437\n",
      "1978-12-31  9.59  27.29  15.402500  5.702483\n",
      "\n",
      "[6574 rows x 4 columns]\n"
     ]
    }
   ],
   "source": [
    "day_stats = data.agg(['min', 'max', 'mean', 'std'], axis=1)\n",
    "print(day_stats)"
   ]
  },
  {
   "cell_type": "markdown",
   "id": "87fc8e23-beae-4bef-be3f-ab5521ad5509",
   "metadata": {},
   "source": [
    "### Step 11. A different set of numbers for each day.\n",
    " Find the average windspeed in January for each location. \n",
    "Treat January 1961 and January 1962 both as January"
   ]
  },
  {
   "cell_type": "code",
   "execution_count": 109,
   "id": "f242aca8-52b6-4582-9abb-5c3487db5df7",
   "metadata": {},
   "outputs": [
    {
     "name": "stdout",
     "output_type": "stream",
     "text": [
      "              RPT    VAL    ROS    KIL    SHA    BIR    DUB    CLA    MUL  \\\n",
      "Date                                                                        \n",
      "1961-01-01  15.04  14.96  13.17   9.29    NaN   9.87  13.67  10.25  10.83   \n",
      "1961-01-02  14.71    NaN  10.83   6.50  12.62   7.67  11.50  10.04   9.79   \n",
      "1961-01-03  18.50  16.88  12.33  10.13  11.17   6.17  11.25    NaN   8.50   \n",
      "1961-01-04  10.58   6.63  11.75   4.58   4.54   2.88   8.63   1.79   5.83   \n",
      "1961-01-05  13.33  13.25  11.42   6.17  10.71   8.21  11.92   6.54  10.92   \n",
      "...           ...    ...    ...    ...    ...    ...    ...    ...    ...   \n",
      "1978-01-27  18.54   9.59  15.67   6.42  10.34   7.04  11.63   9.38   9.46   \n",
      "1978-01-28  35.38  29.88  18.00  15.96  26.92  15.67  15.87  26.34  15.04   \n",
      "1978-01-29  29.38  18.54  28.08  17.12  17.50  13.75  25.54  15.67  18.08   \n",
      "1978-01-30   9.62   8.71   9.59   2.71   7.58   3.54   6.08   6.08   5.33   \n",
      "1978-01-31  10.50   8.79   9.54   4.42  10.58   5.46   8.00   5.71   6.50   \n",
      "\n",
      "              CLO    BEL    MAL  \n",
      "Date                             \n",
      "1961-01-01  12.58  18.50  15.04  \n",
      "1961-01-02   9.67  17.54  13.83  \n",
      "1961-01-03   7.67  12.75  12.71  \n",
      "1961-01-04   5.88   5.46  10.88  \n",
      "1961-01-05  10.34  12.92  11.83  \n",
      "...           ...    ...    ...  \n",
      "1978-01-27   7.58  11.42  24.87  \n",
      "1978-01-28  17.75  34.42  35.83  \n",
      "1978-01-29  20.50  19.12  38.20  \n",
      "1978-01-30   4.46  10.41  12.83  \n",
      "1978-01-31   6.38   6.54  17.37  \n",
      "\n",
      "[558 rows x 12 columns]\n"
     ]
    }
   ],
   "source": [
    "january_data = data[data.index.month == 1]\n",
    "print(january_data)"
   ]
  },
  {
   "cell_type": "markdown",
   "id": "2a570c50-1a21-4900-ab73-861861508ace",
   "metadata": {},
   "source": [
    "### Step 12. Downsample the record to a yearly frequency for each location. "
   ]
  },
  {
   "cell_type": "code",
   "execution_count": 113,
   "id": "0c4ba94e-b7e1-4d69-a5e3-2f34ba8bf113",
   "metadata": {},
   "outputs": [
    {
     "name": "stdout",
     "output_type": "stream",
     "text": [
      "                  RPT        VAL        ROS       KIL        SHA       BIR  \\\n",
      "Date                                                                         \n",
      "1961-12-31  12.299583  10.351796  11.362369  6.958227  10.881763  7.729726   \n",
      "1962-12-31  12.246923  10.110438  11.732712  6.960440  10.657918  7.393068   \n",
      "1963-12-31  12.813452  10.836986  12.541151  7.330055  11.724110  8.434712   \n",
      "1964-12-31  12.363661  10.920164  12.104372  6.787787  11.454481  7.570874   \n",
      "1965-12-31  12.451370  11.075534  11.848767  6.858466  11.024795  7.478110   \n",
      "1966-12-31  13.461973  11.557205  12.020630  7.345726  11.805041  7.793671   \n",
      "1967-12-31  12.737151  10.990986  11.739397  7.143425  11.630740  7.368164   \n",
      "1968-12-31  11.835628  10.468197  11.409754  6.477678  10.760765  6.067322   \n",
      "1969-12-31  11.166356   9.723699  10.902000  5.767973   9.873918  6.189973   \n",
      "1970-12-31  12.600329  10.726932  11.730247  6.217178  10.567370  7.609452   \n",
      "1971-12-31  11.273123   9.095178  11.088329  5.241507   9.440329  6.097151   \n",
      "1972-12-31  12.463962  10.561311  12.058333  5.929699   9.430410  6.358825   \n",
      "1973-12-31  11.828466  10.680493  10.680493  5.547863   9.640877  6.548740   \n",
      "1974-12-31  13.643096  11.811781  12.336356  6.427041  11.110986  6.809781   \n",
      "1975-12-31  12.008575  10.293836  11.564712  5.269096   9.190082  5.668521   \n",
      "1976-12-31  11.737842  10.203115  10.761230  5.109426   8.846339  6.311038   \n",
      "1977-12-31  13.099616  11.144493  12.627836  6.073945  10.003836  8.586438   \n",
      "1978-12-31  12.504356  11.044274  11.380000  6.082356  10.167233  7.650658   \n",
      "\n",
      "                  DUB        CLA       MUL        CLO        BEL        MAL  \n",
      "Date                                                                         \n",
      "1961-12-31   9.733923   8.858788  8.647652   9.835577  13.502795  13.680773  \n",
      "1962-12-31  11.020712   8.793753  8.316822   9.676247  12.930685  14.323956  \n",
      "1963-12-31  11.075699  10.336548  8.903589  10.224438  13.638877  14.999014  \n",
      "1964-12-31  10.259153   9.467350  7.789016  10.207951  13.740546  14.910301  \n",
      "1965-12-31  10.618712   8.879918  7.907425   9.918082  12.964247  15.591644  \n",
      "1966-12-31  10.579808   8.835096  8.514438   9.768959  14.265836  16.307260  \n",
      "1967-12-31  10.652027   9.325616  8.645014   9.547425  14.774548  17.135945  \n",
      "1968-12-31   8.859180   8.255519  7.224945   7.832978  12.808634  15.017486  \n",
      "1969-12-31   8.564493   7.711397  7.924521   7.754384  12.621233  15.762904  \n",
      "1970-12-31   9.609890   8.334630  9.297616   8.289808  13.183644  16.456027  \n",
      "1971-12-31   8.385890   6.757315  7.915370   7.229753  12.208932  15.025233  \n",
      "1972-12-31   9.704508   7.680792  8.357295   7.515273  12.727377  15.028716  \n",
      "1973-12-31   8.482110   7.614274  8.245534   7.812411  12.169699  15.441096  \n",
      "1974-12-31  10.084603   9.896986  9.331753   8.736356  13.252959  16.947671  \n",
      "1975-12-31   8.562603   7.843836  8.797945   7.382822  12.631671  15.307863  \n",
      "1976-12-31   9.149126   7.146202  8.883716   7.883087  12.332377  15.471448  \n",
      "1977-12-31  11.523205   8.378384  9.098192   8.821616  13.459068  16.590849  \n",
      "1978-12-31   9.489342   8.800466  9.089753   8.301699  12.967397  16.771370  \n"
     ]
    }
   ],
   "source": [
    "yearly_data = data.resample('YE').mean()\n",
    "print(yearly_data)"
   ]
  },
  {
   "cell_type": "markdown",
   "id": "82abb491-4632-468c-a5a1-05b58b2dfb4c",
   "metadata": {},
   "source": [
    "### Step 13. Downsample the record to a monthly frequency for each location. "
   ]
  },
  {
   "cell_type": "code",
   "execution_count": 117,
   "id": "980a4d8c-4f0a-48d3-a1d2-91ab7b199143",
   "metadata": {},
   "outputs": [
    {
     "name": "stdout",
     "output_type": "stream",
     "text": [
      "                  RPT        VAL        ROS       KIL        SHA        BIR  \\\n",
      "Date                                                                          \n",
      "1961-01-31  14.841333  11.988333  13.431613  7.736774  11.072759   8.588065   \n",
      "1961-02-28  16.269286  14.975357  14.441481  9.230741  13.852143  10.937500   \n",
      "1961-03-31  10.890000  11.296452  10.752903  7.284000  10.509355   8.866774   \n",
      "1961-04-30  10.722667   9.427667   9.998000  5.830667   8.435000   6.495000   \n",
      "1961-05-31   9.860968   8.850000  10.818065  5.905333   9.490323   6.574839   \n",
      "...               ...        ...        ...       ...        ...        ...   \n",
      "1978-08-31   9.645161   8.259355   9.032258  4.502903   7.368065   5.935161   \n",
      "1978-09-30  10.913667  10.895000  10.635000  5.725000  10.372000   9.278333   \n",
      "1978-10-31   9.897742   8.670968   9.295806  4.721290   8.525161   6.774194   \n",
      "1978-11-30  16.151667  14.802667  13.508000  7.317333  11.475000   8.743000   \n",
      "1978-12-31  16.175484  13.748065  15.635161  7.094839  11.398710   9.241613   \n",
      "\n",
      "                  DUB        CLA        MUL        CLO        BEL        MAL  \n",
      "Date                                                                          \n",
      "1961-01-31  11.184839   9.245333   9.085806  10.107419  13.880968  14.703226  \n",
      "1961-02-28  11.890714  11.846071  11.821429  12.714286  18.583214  15.411786  \n",
      "1961-03-31   9.644194   9.829677  10.294138  11.251935  16.410968  15.720000  \n",
      "1961-04-30   6.925333   7.094667   7.342333   7.237000  11.147333  10.278333  \n",
      "1961-05-31   7.604000   8.177097   8.039355   8.499355  11.900323  12.011613  \n",
      "...               ...        ...        ...        ...        ...        ...  \n",
      "1978-08-31   5.650323   5.417742   7.241290   5.536774  10.466774  12.054194  \n",
      "1978-09-30  10.790333   9.583000  10.069333   8.939000  15.680333  19.391333  \n",
      "1978-10-31   8.115484   7.337742   8.297742   8.243871  13.776774  17.150000  \n",
      "1978-11-30  11.492333   9.657333  10.701333  10.676000  17.404667  20.723000  \n",
      "1978-12-31  12.077419  10.194839  10.616774  11.028710  13.859677  21.371613  \n",
      "\n",
      "[216 rows x 12 columns]\n"
     ]
    }
   ],
   "source": [
    "monthly_data = data.resample('ME').mean()\n",
    "print(monthly_data)"
   ]
  },
  {
   "cell_type": "markdown",
   "id": "bbd28a6d-ca50-442d-a50d-7e36519b9673",
   "metadata": {},
   "source": [
    "### Step 14. Downsample the record to a weekly frequency for each location."
   ]
  },
  {
   "cell_type": "code",
   "execution_count": 121,
   "id": "62393b53-5f8b-43ba-b3df-6e2c7d85c8fc",
   "metadata": {},
   "outputs": [
    {
     "name": "stdout",
     "output_type": "stream",
     "text": [
      "                  RPT        VAL        ROS        KIL        SHA        BIR  \\\n",
      "Date                                                                           \n",
      "1961-01-01  15.040000  14.960000  13.170000   9.290000        NaN   9.870000   \n",
      "1961-01-08  13.541429  11.486667  10.487143   6.417143   9.474286   6.435714   \n",
      "1961-01-15  12.468571   8.967143  11.958571   4.630000   7.351429   5.072857   \n",
      "1961-01-22  13.204286   9.862857  12.982857   6.328571   8.966667   7.417143   \n",
      "1961-01-29  19.880000  16.141429  18.225714  12.720000  17.432857  14.828571   \n",
      "...               ...        ...        ...        ...        ...        ...   \n",
      "1978-12-03  14.934286  11.232857  13.941429   5.565714  10.215714   8.618571   \n",
      "1978-12-10  20.740000  19.190000  17.034286   9.777143  15.287143  12.774286   \n",
      "1978-12-17  16.758571  14.692857  14.987143   6.917143  11.397143   7.272857   \n",
      "1978-12-24  11.155714   8.008571  13.172857   4.004286   7.825714   6.290000   \n",
      "1978-12-31  14.951429  11.801429  16.035714   6.507143   9.660000   8.620000   \n",
      "\n",
      "                  DUB        CLA        MUL        CLO        BEL        MAL  \n",
      "Date                                                                          \n",
      "1961-01-01  13.670000  10.250000  10.830000  12.580000  18.500000  15.040000  \n",
      "1961-01-08  11.061429   6.616667   8.434286   8.497143  12.481429  13.238571  \n",
      "1961-01-15   7.535714   6.820000   5.712857   7.571429  11.125714  11.024286  \n",
      "1961-01-22   9.257143   7.875714   7.145714   8.124286   9.821429  11.434286  \n",
      "1961-01-29  15.528571  15.160000  14.480000  15.640000  20.930000  22.530000  \n",
      "...               ...        ...        ...        ...        ...        ...  \n",
      "1978-12-03   9.642857   7.685714   9.011429   9.547143  11.835714  18.728571  \n",
      "1978-12-10  14.437143  12.488571  13.870000  14.082857  18.517143  23.061429  \n",
      "1978-12-17  10.208571   7.967143   9.168571   8.565714  11.102857  15.562857  \n",
      "1978-12-24   7.798571   8.667143   7.151429   8.072857  11.845714  18.977143  \n",
      "1978-12-31  13.708571  10.477143  10.868571  11.471429  12.947143  26.844286  \n",
      "\n",
      "[940 rows x 12 columns]\n"
     ]
    }
   ],
   "source": [
    "weekly_data = data.resample('W').mean()\n",
    "print(weekly_data)"
   ]
  },
  {
   "cell_type": "markdown",
   "id": "b3e8ed4e-9435-4517-bfcf-2133e403bfcd",
   "metadata": {},
   "source": [
    "### Step 15. Calculate the min, max and mean windspeeds and standard deviations of the \n",
    "windspeeds across all locations for each week (assume that the first week starts on B\n",
    "January 2 1961) for the first 52 weeks."
   ]
  },
  {
   "cell_type": "code",
   "execution_count": 125,
   "id": "2f200fb3-dd33-4bbb-bcf3-1fe30f3e2baa",
   "metadata": {},
   "outputs": [
    {
     "name": "stdout",
     "output_type": "stream",
     "text": [
      "              RPT                                VAL                    \\\n",
      "              min    max       mean       std    min    max       mean   \n",
      "Date                                                                     \n",
      "1961-01-01  15.04  15.04  15.040000       NaN  14.96  14.96  14.960000   \n",
      "1961-01-08  10.58  18.50  13.541429  2.631321   6.63  16.88  11.486667   \n",
      "1961-01-15   9.04  19.75  12.468571  3.555392   3.54  12.08   8.967143   \n",
      "1961-01-22   4.92  19.83  13.204286  5.337402   3.42  14.37   9.862857   \n",
      "1961-01-29  13.62  25.04  19.880000  4.619061   9.96  23.91  16.141429   \n",
      "1961-02-05  10.58  24.21  16.827143  5.251408   9.46  24.21  15.460000   \n",
      "1961-02-12  16.00  24.54  19.684286  3.587677  11.54  21.42  16.417143   \n",
      "1961-02-19   6.04  22.50  15.130000  5.064609  11.63  20.17  15.091429   \n",
      "1961-02-26   7.79  25.80  15.221429  7.020716   7.08  21.50  13.625714   \n",
      "1961-03-05  10.96  13.33  12.101429  0.997721   8.83  17.00  12.951429   \n",
      "1961-03-12   4.88  14.79   9.376667  3.732263   8.08  16.96  11.578571   \n",
      "1961-03-19   4.92  16.88  11.911429  3.860036   9.46  15.54  13.501429   \n",
      "1961-03-26   6.29  15.00   9.567143  3.613298   2.58  11.63   8.387143   \n",
      "1961-04-02   5.88  18.25  10.757143  5.046922   3.50  16.29   8.852857   \n",
      "1961-04-09   4.50  18.12  11.964286  4.604392   7.04  14.62  10.654286   \n",
      "1961-04-16   4.71  15.50   8.965714  3.937727   4.83  12.25   8.000000   \n",
      "1961-04-23   4.00  21.09  12.621429  5.676655   3.71  15.41  10.438571   \n",
      "1961-04-30   4.08  16.29  10.117143  4.349662   6.50  14.46   9.798571   \n",
      "1961-05-07   9.87  23.00  15.367143  5.025507  10.29  19.79  13.970000   \n",
      "1961-05-14   3.54  12.79   7.772857  3.371022   3.96  15.12   8.712857   \n",
      "1961-05-21   4.88  15.04   8.225714  3.631730   3.58  10.17   5.631667   \n",
      "1961-05-28   4.96  11.79   8.155714  2.739433   3.67  12.50   7.388571   \n",
      "1961-06-04   7.00  15.92  10.321429  3.099701   4.75   9.79   7.407143   \n",
      "1961-06-11   8.29  14.42  10.917143  2.248597   6.83  11.54   8.992857   \n",
      "1961-06-18   6.13  14.33  10.571429  3.009482   4.12  14.54   9.565714   \n",
      "1961-06-25   4.00   9.00   7.345714  1.982035   3.25   9.50   6.108571   \n",
      "1961-07-02   7.21  13.13  10.236667  2.557856   6.34  14.37   9.482857   \n",
      "1961-07-09   7.29  17.50  11.715714  3.664855   3.75  10.75   7.220000   \n",
      "1961-07-16   8.63  22.50  16.680000  5.168710   7.87  19.29  13.518571   \n",
      "1961-07-23   3.04   5.88   4.202857  1.047978   2.92   6.79   4.255714   \n",
      "1961-07-30   6.13  16.08  10.561429  4.157641   4.63  13.79   8.445714   \n",
      "1961-08-06   7.67  16.08  10.870000  2.950887   5.09  15.79   8.792857   \n",
      "1961-08-13   2.88  14.21  10.058333  4.422268   4.42  10.00   7.941429   \n",
      "1961-08-20  13.13  18.91  15.607143  2.283635   7.25  13.62  10.565714   \n",
      "1961-08-27   7.67  18.16  12.391429  3.395857   6.87  14.58  11.430000   \n",
      "1961-09-03   3.63  14.46   8.678571  4.398615   1.13  22.00   8.821429   \n",
      "1961-09-10   5.00  17.62  10.541429  5.207278   3.04  13.59   8.798571   \n",
      "1961-09-17   5.33  28.75  17.160000  7.679190   7.12  22.08  14.440000   \n",
      "1961-09-24   6.92  10.25   8.500000  1.267399   2.92  13.62   7.154286   \n",
      "1961-10-01  10.34  23.21  16.044286  4.559572   6.96  13.62  11.361667   \n",
      "1961-10-08   3.13  16.08  11.250000  5.596710   3.63  16.96   8.757143   \n",
      "1961-10-15   3.71  17.12  10.881667  4.780675   6.13  13.25   9.734286   \n",
      "1961-10-22  10.46  28.62  19.260000  7.888314   3.75  19.46  13.364286   \n",
      "1961-10-29   4.33  26.42  16.077143  7.957637   2.75  21.25  11.867143   \n",
      "1961-11-05   5.88  15.79  11.571429  3.369201   3.96  13.46   9.590000   \n",
      "1961-11-12   5.46  16.08  10.428571  3.939811   5.50  10.75   7.690000   \n",
      "1961-11-19   7.50  15.00  10.798571  2.784358   4.21  13.00   7.951429   \n",
      "1961-11-26   5.75  14.29   9.154286  3.214368   3.29  11.79   7.337143   \n",
      "1961-12-03   7.92  23.75  12.608571  5.704669   4.67  18.71  10.442857   \n",
      "1961-12-10  10.83  23.71  17.362857  4.890152   9.21  21.37  14.362857   \n",
      "1961-12-17   9.29  21.34  14.985714  4.095106   8.63  17.62  13.472857   \n",
      "1961-12-24  11.46  24.41  15.757143  4.959717   9.79  16.13  11.971429   \n",
      "\n",
      "                        ROS         ...        CLO              BEL         \\\n",
      "                 std    min    max  ...       mean       std    min    max   \n",
      "Date                                ...                                      \n",
      "1961-01-01       NaN  13.17  13.17  ...  12.580000       NaN  18.50  18.50   \n",
      "1961-01-08  3.949525   7.62  12.33  ...   8.497143  1.704941   5.46  17.54   \n",
      "1961-01-15  3.148945   7.08  19.50  ...   7.571429  4.084293   5.25  20.71   \n",
      "1961-01-22  3.837785   7.29  20.79  ...   8.124286  4.783952   6.50  15.92   \n",
      "1961-01-29  5.170224  12.67  25.84  ...  15.640000  3.713368  14.04  27.71   \n",
      "1961-02-05  5.187395   9.04  19.70  ...   9.460000  2.839501   9.17  19.33   \n",
      "1961-02-12  3.608373  13.67  21.34  ...  14.440000  1.746749  15.21  26.38   \n",
      "1961-02-19  3.575012   6.13  19.41  ...  13.542857  2.531361  14.09  29.63   \n",
      "1961-02-26  5.147348   6.08  22.42  ...  12.730000  4.920064   9.59  23.21   \n",
      "1961-03-05  2.851955   8.17  13.67  ...  12.370000  1.593685  11.58  23.45   \n",
      "1961-03-12  3.230167   7.54  16.38  ...  10.458571  3.655113  10.21  22.71   \n",
      "1961-03-19  2.352867   5.25  13.96  ...  11.627143  3.099472  11.29  22.79   \n",
      "1961-03-26  3.657265   4.79  15.63  ...  11.481429  2.538224   8.25  21.34   \n",
      "1961-04-02  4.687315   5.09  14.96  ...   9.631429  3.191115   7.21  18.63   \n",
      "1961-04-09  2.845399   9.29  18.29  ...   7.238571  2.336182   7.62  17.16   \n",
      "1961-04-16  2.607118   3.92  15.79  ...   6.178571  2.161137   5.75  16.17   \n",
      "1961-04-23  4.631736   3.33  17.00  ...   9.551429  3.347972   6.75  19.21   \n",
      "1961-04-30  2.871425   2.54  14.96  ...   6.124286  2.840568   5.13  13.04   \n",
      "1961-05-07  3.750835   8.42  21.21  ...  11.585714  3.620819   4.79  28.08   \n",
      "1961-05-14  3.782947   4.63  12.33  ...   7.822857  5.460237   6.54  18.66   \n",
      "1961-05-21  2.468906   5.91  15.96  ...   7.114286  2.216889   6.63  12.00   \n",
      "1961-05-28  3.378537   3.58  20.96  ...   7.535714  2.575661   6.13  14.33   \n",
      "1961-06-04  1.868125   6.83  15.96  ...   9.035714  2.096989   8.71  17.00   \n",
      "1961-06-11  1.524836   6.04  11.58  ...   8.397143  2.158323   5.37  16.17   \n",
      "1961-06-18  3.509444   6.50  15.50  ...   9.594286  3.792400   7.29  25.25   \n",
      "1961-06-25  2.212460   5.13  10.37  ...  11.257143  2.286218  11.00  19.08   \n",
      "1961-07-02  2.902411   7.62  10.79  ...  10.268571  1.564144   6.96  21.87   \n",
      "1961-07-09  2.686658   7.41  14.92  ...  10.547143  3.657179   7.08  20.41   \n",
      "1961-07-16  3.849630   8.00  14.29  ...  10.157143  3.271899   5.04  20.25   \n",
      "1961-07-23  1.400010   4.08  12.67  ...   6.041429  1.439785   4.21  10.13   \n",
      "1961-07-30  3.203206   6.42  15.67  ...   9.470000  4.350268   7.87  22.17   \n",
      "1961-08-06  3.985226   5.54  15.59  ...   8.951429  2.903018   6.17  18.54   \n",
      "1961-08-13  2.053326   6.00  11.63  ...   7.235000  2.073777   5.88  14.29   \n",
      "1961-08-20  2.523416   9.17  14.04  ...  12.244286  2.730237   9.59  21.92   \n",
      "1961-08-27  3.174702   9.50  17.83  ...  12.507143  3.855302   5.75  23.38   \n",
      "1961-09-03  7.474025   2.42  12.75  ...   8.924286  3.993736   4.79  24.71   \n",
      "1961-09-10  4.003996   3.63  14.88  ...   7.565714  3.649278   5.41  15.83   \n",
      "1961-09-17  5.360585   7.29  26.50  ...  14.268571  5.128338  13.92  23.91   \n",
      "1961-09-24  3.445262   5.33  12.17  ...   6.798571  2.354092   4.54  20.96   \n",
      "1961-10-01  2.812482   7.87  17.58  ...  11.840000  3.908397   7.79  21.37   \n",
      "1961-10-08  5.060803   4.96  17.83  ...   7.662857  4.296870   4.79  17.83   \n",
      "1961-10-15  2.707483   4.21  20.96  ...   9.494286  3.569308   8.54  20.46   \n",
      "1961-10-22  5.998199   9.92  22.63  ...  16.461429  5.890511  10.88  24.71   \n",
      "1961-10-29  6.879973   4.79  23.09  ...  12.952857  6.277629   8.50  27.29   \n",
      "1961-11-05  3.900278   6.54  14.33  ...  11.864286  2.784450  10.29  20.17   \n",
      "1961-11-12  2.141191   3.83  20.41  ...   6.415714  2.843518   6.13  12.58   \n",
      "1961-11-19  3.208548   6.46  32.71  ...   6.031429  4.402588   0.71   9.59   \n",
      "1961-11-26  3.277904   4.42  14.46  ...   9.582857  2.747452   6.50  20.46   \n",
      "1961-12-03  5.107089   8.00  19.92  ...   7.911429  3.680477   5.50  19.04   \n",
      "1961-12-10  4.115506   9.71  20.54  ...  12.022857  4.156207  10.71  21.79   \n",
      "1961-12-17  3.587886   9.04  19.00  ...  11.058571  4.633398   5.50  22.83   \n",
      "1961-12-24  2.220866   8.08  22.13  ...   7.697143  4.637096   5.29  17.67   \n",
      "\n",
      "                                   MAL                              \n",
      "                 mean       std    min    max       mean       std  \n",
      "Date                                                                \n",
      "1961-01-01  18.500000       NaN  15.04  15.04  15.040000       NaN  \n",
      "1961-01-08  12.481429  4.349139  10.88  16.46  13.238571  1.773062  \n",
      "1961-01-15  11.125714  5.552215   5.17  16.92  11.024286  4.692355  \n",
      "1961-01-22   9.821429  3.626584   6.79  17.96  11.434286  4.237239  \n",
      "1961-01-29  20.930000  5.210726  17.50  27.63  22.530000  3.874721  \n",
      "1961-02-05  14.012857  4.210858   7.17  19.25  11.935714  4.336104  \n",
      "1961-02-12  21.832857  4.063753  17.04  21.84  19.155714  1.828705  \n",
      "1961-02-19  21.167143  5.910938  10.96  22.58  16.584286  4.685377  \n",
      "1961-02-26  16.304286  5.091162   6.67  23.87  14.322857  6.182283  \n",
      "1961-03-05  17.842857  4.332331   8.83  17.54  13.951667  3.021387  \n",
      "1961-03-12  16.701429  4.358759   5.54  22.54  14.420000  5.769890  \n",
      "1961-03-19  19.350000  3.779727  11.34  22.95  16.227143  4.331958  \n",
      "1961-03-26  14.037143  4.318069  13.13  22.50  18.134286  3.701846  \n",
      "1961-04-02  13.471429  4.179854   7.17  19.58  13.900000  3.924555  \n",
      "1961-04-09  11.712857  3.147781   7.21  15.34  11.371429  2.598271  \n",
      "1961-04-16   9.482857  3.641464   5.66  12.87   8.690000  2.747842  \n",
      "1961-04-23  13.620000  4.735096   4.96  20.46  12.470000  5.908542  \n",
      "1961-04-30   9.720000  2.948237   2.67  17.50   8.637143  5.108365  \n",
      "1961-05-07  17.548571  8.003490   3.83  26.58  14.571429  7.728504  \n",
      "1961-05-14  10.421429  3.968272   3.33  26.30  10.382857  7.858246  \n",
      "1961-05-21   9.624286  1.975853   5.91  14.96  10.612857  3.310819  \n",
      "1961-05-28  10.518571  3.024524   8.00  17.04  11.697143  3.811818  \n",
      "1961-06-04  12.298571  2.611139  10.63  17.96  13.597143  2.593586  \n",
      "1961-06-11  10.148571  3.993062   5.96  19.83  12.250000  4.925055  \n",
      "1961-06-18  15.351429  6.477887   6.13  24.71  15.025714  6.242673  \n",
      "1961-06-25  14.370000  2.498386  13.75  21.50  17.410000  3.063011  \n",
      "1961-07-02  14.535714  6.303747   8.50  16.79  12.133333  3.652313  \n",
      "1961-07-09  12.220000  4.537988  12.08  21.29  15.987143  3.665705  \n",
      "1961-07-16  13.520000  4.971060   5.96  21.96  12.524286  4.974273  \n",
      "1961-07-23   7.524286  2.050218   5.41  10.92   8.415714  2.133994  \n",
      "1961-07-30  12.841429  5.580903   6.13  25.37  13.761429  6.664574  \n",
      "1961-08-06  11.595714  4.901377   9.08  20.25  13.760000  4.448251  \n",
      "1961-08-13  10.934286  2.931302   5.88  15.16  10.125714  3.356585  \n",
      "1961-08-20  14.922857  4.086725  13.04  24.30  16.626667  3.934238  \n",
      "1961-08-27  16.251429  6.711322   8.29  22.29  16.485714  4.947608  \n",
      "1961-09-03  13.664286  7.678051   5.41  22.54  11.022857  6.308087  \n",
      "1961-09-10  10.700000  4.220584   3.37  20.25  11.034286  6.049619  \n",
      "1961-09-17  19.878571  4.464252  14.67  33.09  18.984286  6.332885  \n",
      "1961-09-24  11.018571  5.235868   5.25  14.62   9.814286  3.113507  \n",
      "1961-10-01  16.208571  5.091268   4.04  17.16  13.338571  4.696504  \n",
      "1961-10-08   8.810000  4.800403   4.83  19.62  11.410000  5.462002  \n",
      "1961-10-15  14.451429  4.113200  10.75  21.04  15.260000  4.098130  \n",
      "1961-10-22  17.477143  5.645871  13.46  33.45  23.641429  7.468377  \n",
      "1961-10-29  15.592857  7.056150   9.83  30.88  18.404286  8.340881  \n",
      "1961-11-05  16.322857  4.038493  13.37  23.58  19.195714  3.870800  \n",
      "1961-11-12   9.208571  2.532196   5.71  15.54  10.858571  3.690752  \n",
      "1961-11-19   5.875714  3.643285   2.00  13.25   5.737143  3.787654  \n",
      "1961-11-26  11.772857  5.407223   4.25  22.58  12.732857  6.475867  \n",
      "1961-12-03  11.464286  5.552648   5.88  21.29  14.725714  5.233192  \n",
      "1961-12-10  15.975714  4.667933   7.58  29.33  16.241429  7.345893  \n",
      "1961-12-17  15.112857  6.531043   6.50  21.12  14.644286  5.665006  \n",
      "1961-12-24   9.958571  5.065308   2.62  16.62   8.164286  5.048035  \n",
      "\n",
      "[52 rows x 48 columns]\n"
     ]
    }
   ],
   "source": [
    "weekly_detailed_stats = data.resample('W').agg(['min', 'max', 'mean', 'std']).head(52)\n",
    "print(weekly_detailed_stats)"
   ]
  },
  {
   "cell_type": "markdown",
   "id": "81a0a151-4474-44a0-b799-62adea77001a",
   "metadata": {},
   "source": [
    "## Question 5"
   ]
  },
  {
   "cell_type": "markdown",
   "id": "6895891e-e673-43dc-bde8-38022bf4c437",
   "metadata": {},
   "source": [
    "### Step 1. Import the necessary libraries"
   ]
  },
  {
   "cell_type": "markdown",
   "id": "d26d7cf2-19bd-478b-803b-c1eb830a4fc5",
   "metadata": {},
   "source": [
    "import pandas as pd"
   ]
  },
  {
   "cell_type": "markdown",
   "id": "bf07fd6d-b8e5-4bef-a6e4-ca869579a862",
   "metadata": {},
   "source": [
    "### Step 2 and 3. Import the dataset from this address. "
   ]
  },
  {
   "cell_type": "code",
   "execution_count": 708,
   "id": "66bb8b2d-d1ce-4e4a-b363-fe1afb379b6f",
   "metadata": {},
   "outputs": [],
   "source": [
    "link = 'https://raw.githubusercontent.com/justmarkham/DAT8/master/data/chipotle.tsv'\n",
    "chipo = pd.read_csv(link, sep='\\t')"
   ]
  },
  {
   "cell_type": "markdown",
   "id": "8a7b5659-bcba-4b5b-8dbb-6f1993dd3d63",
   "metadata": {},
   "source": [
    "### Step 4. See the first 10 entries"
   ]
  },
  {
   "cell_type": "code",
   "execution_count": 710,
   "id": "473162fc-62ba-4a5a-8604-8a2d5a037534",
   "metadata": {},
   "outputs": [
    {
     "name": "stdout",
     "output_type": "stream",
     "text": [
      "   order_id  quantity                              item_name  \\\n",
      "0         1         1           Chips and Fresh Tomato Salsa   \n",
      "1         1         1                                   Izze   \n",
      "2         1         1                       Nantucket Nectar   \n",
      "3         1         1  Chips and Tomatillo-Green Chili Salsa   \n",
      "4         2         2                           Chicken Bowl   \n",
      "5         3         1                           Chicken Bowl   \n",
      "6         3         1                          Side of Chips   \n",
      "7         4         1                          Steak Burrito   \n",
      "8         4         1                       Steak Soft Tacos   \n",
      "9         5         1                          Steak Burrito   \n",
      "\n",
      "                                  choice_description item_price  \n",
      "0                                                NaN     $2.39   \n",
      "1                                       [Clementine]     $3.39   \n",
      "2                                            [Apple]     $3.39   \n",
      "3                                                NaN     $2.39   \n",
      "4  [Tomatillo-Red Chili Salsa (Hot), [Black Beans...    $16.98   \n",
      "5  [Fresh Tomato Salsa (Mild), [Rice, Cheese, Sou...    $10.98   \n",
      "6                                                NaN     $1.69   \n",
      "7  [Tomatillo Red Chili Salsa, [Fajita Vegetables...    $11.75   \n",
      "8  [Tomatillo Green Chili Salsa, [Pinto Beans, Ch...     $9.25   \n",
      "9  [Fresh Tomato Salsa, [Rice, Black Beans, Pinto...     $9.25   \n"
     ]
    }
   ],
   "source": [
    "print(chipo.head(10))"
   ]
  },
  {
   "cell_type": "markdown",
   "id": "049d01d5-7b78-4a7a-85c9-fc947290f081",
   "metadata": {},
   "source": [
    "### Step 5. What is the number of observations in the dataset? "
   ]
  },
  {
   "cell_type": "code",
   "execution_count": 712,
   "id": "5664cbf1-9640-4d7e-bff5-78f8feeff0e8",
   "metadata": {},
   "outputs": [
    {
     "name": "stdout",
     "output_type": "stream",
     "text": [
      "4622\n"
     ]
    }
   ],
   "source": [
    "numObservations = chipo.shape[0]\n",
    "print(numObservations)"
   ]
  },
  {
   "cell_type": "markdown",
   "id": "0f7e9e1b-f053-4a1b-bf93-977f72a520c6",
   "metadata": {},
   "source": [
    "### Step 6. What is the number of columns in the dataset?"
   ]
  },
  {
   "cell_type": "code",
   "execution_count": 714,
   "id": "63b9b940-7a5e-45c4-bd7a-fae1f0c20235",
   "metadata": {},
   "outputs": [
    {
     "name": "stdout",
     "output_type": "stream",
     "text": [
      "5\n"
     ]
    }
   ],
   "source": [
    "column_nums = (chipo.shape[1])\n",
    "print(column_nums)"
   ]
  },
  {
   "cell_type": "markdown",
   "id": "2d638619-d142-4b38-9a75-fbf31f70044f",
   "metadata": {},
   "source": [
    "### Step 7. Print the name of all the columns."
   ]
  },
  {
   "cell_type": "code",
   "execution_count": 716,
   "id": "946fbe27-7f48-432c-af09-9ce6dc9e70e7",
   "metadata": {},
   "outputs": [
    {
     "name": "stdout",
     "output_type": "stream",
     "text": [
      "['order_id', 'quantity', 'item_name', 'choice_description', 'item_price']\n"
     ]
    }
   ],
   "source": [
    " print(chipo.columns.tolist())"
   ]
  },
  {
   "cell_type": "markdown",
   "id": "0f22fca1-a4b8-481f-bdd0-aa484377eed8",
   "metadata": {},
   "source": [
    "### Step 8. How is the dataset indexed?"
   ]
  },
  {
   "cell_type": "code",
   "execution_count": 718,
   "id": "a8c59938-e457-4703-ae5d-ad6aaa00f222",
   "metadata": {},
   "outputs": [
    {
     "name": "stdout",
     "output_type": "stream",
     "text": [
      "RangeIndex(start=0, stop=4622, step=1)\n"
     ]
    }
   ],
   "source": [
    "print(chipo.index)"
   ]
  },
  {
   "cell_type": "markdown",
   "id": "47bddc8d-896f-45cd-be46-779720b402e0",
   "metadata": {},
   "source": [
    "### Step 9. Which was the most-ordered item?"
   ]
  },
  {
   "cell_type": "code",
   "execution_count": 720,
   "id": "6fc0d961-5772-476e-8f90-8586e85d5f52",
   "metadata": {},
   "outputs": [
    {
     "name": "stdout",
     "output_type": "stream",
     "text": [
      "Chicken Bowl\n"
     ]
    }
   ],
   "source": [
    "mostOrderedItem = chipo.groupby('item_name')['quantity'].sum().idxmax()\n",
    "print(mostOrderedItem)"
   ]
  },
  {
   "cell_type": "markdown",
   "id": "5aa85e0a-5d09-482b-b90e-1d6fb5cdf1c0",
   "metadata": {},
   "source": [
    "### Step 10. For the most-ordered item, how many items were ordered?"
   ]
  },
  {
   "cell_type": "code",
   "execution_count": 722,
   "id": "de23b46a-a61f-4dee-bd2b-48856d857af9",
   "metadata": {},
   "outputs": [
    {
     "name": "stdout",
     "output_type": "stream",
     "text": [
      "761\n"
     ]
    }
   ],
   "source": [
    "mostOrderedItemNum = chipo.groupby('item_name')['quantity'].sum().max()\n",
    "print(mostOrderedItemNum)"
   ]
  },
  {
   "cell_type": "markdown",
   "id": "b8eb8984-1fdc-46e7-b492-8c3fdc89b024",
   "metadata": {},
   "source": [
    "### Step 11. What was the most ordered item in the choice_description column? "
   ]
  },
  {
   "cell_type": "code",
   "execution_count": 724,
   "id": "e6867cb9-b4e0-4d49-9e9a-3dd79209b18e",
   "metadata": {},
   "outputs": [
    {
     "name": "stdout",
     "output_type": "stream",
     "text": [
      "[Diet Coke]\n"
     ]
    }
   ],
   "source": [
    "most_ord_choice_descr = chipo['choice_description'].value_counts().idxmax()\n",
    "print(most_ord_choice_descr)"
   ]
  },
  {
   "cell_type": "markdown",
   "id": "90433625-f87e-434f-a80f-b1831ba31a71",
   "metadata": {},
   "source": [
    "### Step 12. How many items were orderd in total?"
   ]
  },
  {
   "cell_type": "code",
   "execution_count": 726,
   "id": "692df519-6316-4a3c-86cf-08e457572fc2",
   "metadata": {},
   "outputs": [
    {
     "name": "stdout",
     "output_type": "stream",
     "text": [
      "4972\n"
     ]
    }
   ],
   "source": [
    "total_ordered = chipo['quantity'].sum()\n",
    "print(total_ordered)"
   ]
  },
  {
   "cell_type": "markdown",
   "id": "60f15200-fc5d-431f-8271-b98569db0cee",
   "metadata": {},
   "source": [
    "### Step 13.\n",
    "• Turn the item price into a float\n",
    "• Check the item price type\n",
    "• Create a lambda function and change the type of item price\n",
    "• Check the item price type"
   ]
  },
  {
   "cell_type": "code",
   "execution_count": 728,
   "id": "7ec9a65e-ef0b-4d17-9fdf-bdbce3c22ca6",
   "metadata": {},
   "outputs": [],
   "source": [
    "### Turn the item price into a float \n",
    "chipo['item_price'] = chipo['item_price'].str.replace('$','').astype(float)"
   ]
  },
  {
   "cell_type": "markdown",
   "id": "38555541-a226-4d3e-94af-0d75549b365a",
   "metadata": {},
   "source": [
    "### Step 14. How much was the revenue for the period in the dataset? "
   ]
  },
  {
   "cell_type": "code",
   "execution_count": 730,
   "id": "c9a1d83c-7c04-4886-bfce-859a678e6246",
   "metadata": {},
   "outputs": [
    {
     "name": "stdout",
     "output_type": "stream",
     "text": [
      "39237.02\n"
     ]
    }
   ],
   "source": [
    "chipo['revenue'] = chipo['quantity'] * chipo['item_price']\n",
    "total_revenue = chipo['revenue'].sum()\n",
    "print(total_revenue)"
   ]
  },
  {
   "cell_type": "markdown",
   "id": "6e35d174-89ea-4d0a-af7c-77702eed4622",
   "metadata": {},
   "source": [
    "### Step 15. How many orders were made in the period?"
   ]
  },
  {
   "cell_type": "code",
   "execution_count": 732,
   "id": "f857a5f2-3952-4b77-b7c9-ba4ff275df38",
   "metadata": {},
   "outputs": [
    {
     "name": "stdout",
     "output_type": "stream",
     "text": [
      "1834\n"
     ]
    }
   ],
   "source": [
    "total_order = chipo['order_id'].nunique()\n",
    "print(total_order)"
   ]
  },
  {
   "cell_type": "markdown",
   "id": "16011ae6-4271-40b6-8234-fe17c0b9646e",
   "metadata": {},
   "source": [
    "### Step 16. What is the average revenue amount per order? "
   ]
  },
  {
   "cell_type": "code",
   "execution_count": 734,
   "id": "2447e185-aac1-4412-912c-0e3343ce72ae",
   "metadata": {},
   "outputs": [
    {
     "name": "stdout",
     "output_type": "stream",
     "text": [
      "21.39423118865867\n"
     ]
    }
   ],
   "source": [
    "avg_rev_per_ord = total_revenue / total_order\n",
    "print(avg_rev_per_ord)"
   ]
  },
  {
   "cell_type": "markdown",
   "id": "6b1c3b32-e92e-4141-bd34-57a3628d3748",
   "metadata": {},
   "source": [
    "### Step 17. How many different items are sold?"
   ]
  },
  {
   "cell_type": "code",
   "execution_count": 736,
   "id": "4addbf6d-021b-4592-abce-ddce251a3de4",
   "metadata": {},
   "outputs": [
    {
     "name": "stdout",
     "output_type": "stream",
     "text": [
      "50\n"
     ]
    }
   ],
   "source": [
    "diff_items_num = chipo['item_name'].nunique()\n",
    "print(diff_items_num)"
   ]
  },
  {
   "cell_type": "markdown",
   "id": "10cc5c26-7c8d-482b-9ce6-7e594649c012",
   "metadata": {},
   "source": [
    "## Question 6 Create a line plot showing the number of marriages and divorces per capita in the U.S. between 1867 and 2014. Label both lines and show the legend. Don't forget to label your axes!"
   ]
  },
  {
   "cell_type": "code",
   "execution_count": 738,
   "id": "d05d44a0-a5af-4912-9582-a839ddb83ac4",
   "metadata": {},
   "outputs": [
    {
     "data": {
      "image/png": "[encoded data removed]",
      "text/plain": [
       "<Figure size 1000x500 with 1 Axes>"
      ]
     },
     "metadata": {},
     "output_type": "display_data"
    }
   ],
   "source": [
    "import pandas as pd\n",
    "import matplotlib.pyplot as plt\n",
    "\n",
    "data = pd.read_csv('us-marriages-divorces-1867-2014.csv')\n",
    "\n",
    "plt.figure(figsize=(10,5))\n",
    "plt.plot(data['Year'], data['Marriages_per_1000'], label='Marriages per 1,000', color='blue', linewidth=2)\n",
    "plt.plot(data['Year'], data['Divorces_per_1000'], label='Divorces per 1,000', color='red', linewidth=2)\n",
    "\n",
    "plt.xlabel('Year', fontsize='14')\n",
    "plt.ylabel('Number per 1,000 People', fontsize=14)\n",
    "\n",
    "plt.title('US Marriages and Divorces Per Capita from 1868 to 2014', fontsize=16)\n",
    "plt.legend(fontsize=12)\n",
    "\n",
    "plt.grid(True)\n",
    "plt.tight_layout()\n",
    "plt.show()"
   ]
  },
  {
   "cell_type": "markdown",
   "id": "3ed64293-c71d-45e2-9e28-8ba41c90a886",
   "metadata": {},
   "source": [
    "## Question 7 Create a vertical bar chart comparing the number of marriages and divorces per  capita in the U.S. between 1900, 1950, and 2000. Don't forget to label your axes!"
   ]
  },
  {
   "cell_type": "code",
   "execution_count": 740,
   "id": "0e64560e-2ec3-45f4-a388-5c81500ee40f",
   "metadata": {},
   "outputs": [
    {
     "data": {
      "image/png": "[encoded data removed]",
      "text/plain": [
       "<Figure size 800x500 with 1 Axes>"
      ]
     },
     "metadata": {},
     "output_type": "display_data"
    }
   ],
   "source": [
    "import pandas as pd\n",
    "import matplotlib.pyplot as plt\n",
    "\n",
    "years_selected = data[data['Year'].isin([1900, 1950, 2000])]\n",
    "\n",
    "plt.figure(figsize=(8,5))\n",
    "bar_width = 0.3\n",
    "index = range(len(years_selected))\n",
    "\n",
    "plt.bar(index, years_selected['Marriages_per_1000'], bar_width, label='Marriages per 1,000', color='blue')\n",
    "plt.bar([i + bar_width for i in index], years_selected['Divorces_per_1000'], bar_width, label='Divorces per 1,000', color='red')\n",
    "\n",
    "plt.xlabel('Year',fontsize=14)\n",
    "plt.ylabel('Number per 1,000 people', fontsize=14)\n",
    "plt.title('Marriages and Divorces per Capita in Years 1900, 1950, 2000', fontsize=16)\n",
    "plt.xticks([i + bar_width /2 for i in index], years_selected['Year'], fontsize=12)\n",
    "\n",
    "plt.legend(fontsize=12)\n",
    "\n",
    "plt.grid(axis='y', linestyle='--', alpha=0.7)\n",
    "plt.tight_layout()\n",
    "plt.show()\n"
   ]
  },
  {
   "cell_type": "markdown",
   "id": "8917cb2f-0830-4044-b664-84b809e4b7c6",
   "metadata": {},
   "source": [
    "## Question 8. Create a horizontal bar chart that compares the deadliest actors in Hollywood. Sort the actors by their kill count and label each bar with the corresponding actor's name. \n",
    "Don't forget to label your axes!\n"
   ]
  },
  {
   "cell_type": "code",
   "execution_count": 742,
   "id": "c92cfb25-b2f8-4443-8ddc-43d87e88dc11",
   "metadata": {},
   "outputs": [
    {
     "name": "stdout",
     "output_type": "stream",
     "text": [
      "                   Actor  Count\n",
      "0  Arnold Schwarzenegger    369\n",
      "1           Chow Yun-Fat    295\n",
      "2         Clint Eastwood    207\n",
      "3             Clive Owen    194\n",
      "4         Dolph Lundgren    239\n",
      "5                 Jet Li    201\n",
      "6           Nicolas Cage    204\n",
      "7     Sylvester Stallone    267\n",
      "8    Tomisaburo Wakayama    226\n",
      "9          Wesley Snipes    193\n"
     ]
    }
   ],
   "source": [
    "import pandas as pd\n",
    "import matplotlib.pyplot as plt\n",
    "\n",
    "data = pd.read_csv(\"actor_kill_counts.csv\")\n",
    "\n",
    "print(data)"
   ]
  },
  {
   "cell_type": "code",
   "execution_count": 743,
   "id": "ed0560f7-a08f-4ffd-8b7d-da68a51d559a",
   "metadata": {},
   "outputs": [
    {
     "data": {
      "image/png": "[encoded data removed]",
      "text/plain": [
       "<Figure size 1200x600 with 1 Axes>"
      ]
     },
     "metadata": {},
     "output_type": "display_data"
    }
   ],
   "source": [
    "import pandas as pd\n",
    "import matplotlib.pyplot as plt\n",
    "\n",
    "data = pd.read_csv(\"actor_kill_counts.csv\")\n",
    "\n",
    "data = data.sort_values(by='Count', ascending=True)\n",
    "\n",
    "plt.figure(figsize=(12,6))\n",
    "plt.barh(data['Actor'], data['Count'], color='darkred')\n",
    "\n",
    "plt.xlabel('Kill Count', fontsize=14)\n",
    "plt.ylabel('Actor', fontsize=14)\n",
    "plt.title('Deadliest Actors in Hollywood', fontsize=16)\n",
    "\n",
    "for index, value in enumerate(data['Count']):\n",
    "    plt.text(value, index, str(value), va='center', ha='left', fontsize=12)\n",
    "\n",
    "plt.tight_layout()\n",
    "plt.show()\n"
   ]
  },
  {
   "cell_type": "markdown",
   "id": "c7fc83f5-e8d3-456a-a780-bbb9d819f24b",
   "metadata": {},
   "source": [
    "## Question 9 Create a pie chart showing the fraction of all Roman Emperors that were assassinated. \n",
    "Make sure that the pie chart is an even circle, labels the categories, and shows the  percentage breakdown of the categories."
   ]
  },
  {
   "cell_type": "code",
   "execution_count": 745,
   "id": "b40a6953-c211-4cd6-965c-cb861f68e3b5",
   "metadata": {},
   "outputs": [
    {
     "name": "stdout",
     "output_type": "stream",
     "text": [
      "           Emperor  Length_of_Reign         Cause_of_Death\n",
      "0         Augustus            40.58  Possibly assassinated\n",
      "1         Tiberius            22.50  Possibly assassinated\n",
      "2         Caligula             4.83           Assassinated\n",
      "3         Claudius            13.75  Possibly assassinated\n",
      "4             Nero            13.67                Suicide\n",
      "..             ...              ...                    ...\n",
      "63   Valentinian I            11.00         Natural causes\n",
      "64          Valens            14.00       Killed in battle\n",
      "65         Gratian            16.00           Assassinated\n",
      "66  Valentinian II            17.00  Possibly assassinated\n",
      "67    Theodosius I            16.00         Natural causes\n",
      "\n",
      "[68 rows x 3 columns]\n"
     ]
    },
    {
     "data": {
      "image/png": "[encoded data removed]",
      "text/plain": [
       "<Figure size 800x800 with 1 Axes>"
      ]
     },
     "metadata": {},
     "output_type": "display_data"
    }
   ],
   "source": [
    "import pandas as pd\n",
    "import matplotlib.pyplot as plt\n",
    "\n",
    "emperors = pd.read_csv('roman-emperor-reigns.csv')\n",
    "\n",
    "print(emperors)\n",
    "\n",
    "assasinated_count = emperors['Cause_of_Death'].value_counts()\n",
    "\n",
    "assasinated = assasinated_count.get('Assassinated',0)\n",
    "natural_death = assasinated_count.sum() - assasinated\n",
    "\n",
    "categories = ['Assasinated', 'Natural Death']\n",
    "values = [assasinated, natural_death]\n",
    "\n",
    "plt.figure(figsize=(8,8))\n",
    "plt.pie(\n",
    "    values,\n",
    "    labels=categories,\n",
    "    autopct='%1.1f%%',\n",
    "    startangle=140,\n",
    "    colors=['grey', 'lightblue']\n",
    ")\n",
    "plt.title('Percent of Roman Emperors Assasinated',fontsize=14)\n",
    "plt.axis('equal')\n",
    "plt.tight_layout()\n",
    "\n",
    "plt.show()"
   ]
  },
  {
   "cell_type": "markdown",
   "id": "04dff99b-3bd2-4e27-8de9-61c1945c46ef",
   "metadata": {},
   "source": [
    "## Question 10. Create a scatter plot showing the relationship between the total revenue earned by arcades and the number of Computer Science PhDs awarded in the U.S. between 2000 and 2009.\n",
    "Don't forget to label your axes! \n",
    "Color each dot according to its year."
   ]
  },
  {
   "cell_type": "code",
   "execution_count": 135,
   "id": "ba531227-db83-47fb-9b5d-47e31b5e52f2",
   "metadata": {},
   "outputs": [
    {
     "data": {
      "image/png": "[encoded data removed]",
      "text/plain": [
       "<Figure size 1000x600 with 2 Axes>"
      ]
     },
     "metadata": {},
     "output_type": "display_data"
    }
   ],
   "source": [
    "import pandas as pd\n",
    "import matplotlib.pyplot as plt\n",
    "\n",
    "dataset = pd.read_csv('arcade-revenue-vs-cs-doctorates.csv')\n",
    "\n",
    "plt.figure(figsize=(10, 6))\n",
    "scatter = plt.scatter(\n",
    "    dataset['Total Arcade Revenue (billions)'], \n",
    "    dataset['Computer Science Doctorates Awarded (US)'], \n",
    "    c=dataset['Year'], \n",
    "    cmap='viridis', \n",
    "    s=100, \n",
    "    edgecolor='w'\n",
    ")\n",
    "\n",
    "plt.colorbar(scatter, label='Year')\n",
    "\n",
    "plt.xlabel('Total Arcade Revenue (in billions)', fontsize=14)\n",
    "plt.ylabel('Number of CS PhDs Awarded', fontsize=14)\n",
    "plt.title('Relationship Between Arcade Revenue and CS PhDs Awarded (2000-2009)', fontsize=16)\n",
    "\n",
    "plt.grid(alpha=0.5)\n",
    "plt.tight_layout()\n",
    "plt.show()"
   ]
  },
  {
   "cell_type": "code",
   "execution_count": null,
   "id": "51fa988e-e338-41d0-b364-718adae49a85",
   "metadata": {},
   "outputs": [],
   "source": []
  }
 ],
 "metadata": {
  "kernelspec": {
   "display_name": "Python 3 (ipykernel)",
   "language": "python",
   "name": "python3"
  },
  "language_info": {
   "codemirror_mode": {
    "name": "ipython",
    "version": 3
   },
   "file_extension": ".py",
   "mimetype": "text/x-python",
   "name": "python",
   "nbconvert_exporter": "python",
   "pygments_lexer": "ipython3",
   "version": "3.12.4"
  }
 },
 "nbformat": 4,
 "nbformat_minor": 5
}
